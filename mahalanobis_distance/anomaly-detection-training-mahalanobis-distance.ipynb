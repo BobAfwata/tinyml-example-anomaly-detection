{
 "cells": [
  {
   "cell_type": "code",
   "execution_count": 1,
   "metadata": {},
   "outputs": [],
   "source": [
    "#python -m pip install seaborn"
   ]
  },
  {
   "cell_type": "code",
   "execution_count": 44,
   "metadata": {},
   "outputs": [],
   "source": [
    "from os import listdir\n",
    "from os.path import join\n",
    "import numpy as np\n",
    "import pandas as pd\n",
    "import scipy as sp\n",
    "import matplotlib.pyplot as plt\n",
    "import random\n",
    "from scipy import stats\n",
    "from sklearn.metrics import confusion_matrix\n",
    "import seaborn as sn"
   ]
  },
  {
   "cell_type": "code",
   "execution_count": 45,
   "metadata": {},
   "outputs": [
    {
     "name": "stdout",
     "output_type": "stream",
     "text": [
      "Python 3.7.6\n",
      "Numpy 1.18.1\n",
      "Pandas 1.0.3\n",
      "SciPy 1.4.1\n"
     ]
    }
   ],
   "source": [
    "# Print versions\n",
    "!python --version\n",
    "print('Numpy ' + np.__version__)\n",
    "print('Pandas ' + pd.__version__)\n",
    "print('SciPy ' + sp.__version__)"
   ]
  },
  {
   "cell_type": "code",
   "execution_count": 50,
   "metadata": {},
   "outputs": [
    {
     "name": "stdout",
     "output_type": "stream",
     "text": [
      "Max measurements per file: 128\n",
      "Downsample factor: 2\n"
     ]
    }
   ],
   "source": [
    "# Settings\n",
    "dataset_path = 'ceiling-fan-dataset'  # Directory where raw accelerometer data is stored\n",
    "normal_op_list = ['fan_0_low-deploy']\n",
    "anomaly_op_list = ['fan_0_med_0_weight', 'fan_0_high_0_weight',\n",
    "                  'fan_0_low_1_weight', 'fan_0_med_1_weight', 'fan_0_high_1_weight']\n",
    "val_ratio = 0.2             # Percentage of samples that should be held for validation set\n",
    "test_ratio = 0.2            # Percentage of samples that should be held for test set\n",
    "raw_scale = 1               # Multiply raw values to fit into integers\n",
    "sensor_sample_rate = 200    # Hz\n",
    "desired_sample_rate = 50    # Hz\n",
    "sample_time = 0.64           # Time (sec) length of each sample\n",
    "samples_per_file = 128      # Expected number of measurements in each file (truncate to this)\n",
    "max_anomaly_samples = 500   # Max number of (shuffled) anomaly samples to use\n",
    "max_measurements = int(sample_time * sensor_sample_rate)\n",
    "downsample_factor = int(samples_per_file / desired_sample_rate)\n",
    "\n",
    "md_file_name = 'models\\\\md_model_test_01'   # Mahalanobis Distance model arrays (.npz will be added)\n",
    "\n",
    "print('Max measurements per file:', max_measurements)\n",
    "print('Downsample factor:', downsample_factor)"
   ]
  },
  {
   "cell_type": "code",
   "execution_count": 51,
   "metadata": {},
   "outputs": [],
   "source": [
    "# Create list of filenames\n",
    "def createFilenameList(op_list):\n",
    "    \n",
    "    # Extract paths and filenames in each directory\n",
    "    op_filenames = []\n",
    "    num_samples = 0\n",
    "    for index, target in enumerate(op_list):\n",
    "        samples_in_dir = listdir(join(dataset_path, target))\n",
    "        samples_in_dir = [join(dataset_path, target, sample) for sample in samples_in_dir]\n",
    "        op_filenames.append(samples_in_dir)\n",
    "    \n",
    "    # Flatten list\n",
    "    return [item for sublist in op_filenames for item in sublist]"
   ]
  },
  {
   "cell_type": "code",
   "execution_count": 52,
   "metadata": {},
   "outputs": [
    {
     "name": "stdout",
     "output_type": "stream",
     "text": [
      "Number of normal samples: 299\n",
      "Number of anomaly samples: 2926\n"
     ]
    }
   ],
   "source": [
    "# Create normal and anomaly filename lists\n",
    "normal_op_filenames = createFilenameList(normal_op_list)\n",
    "anomaly_op_filenames = createFilenameList(anomaly_op_list)\n",
    "print('Number of normal samples:', len(normal_op_filenames))\n",
    "print('Number of anomaly samples:', len(anomaly_op_filenames))"
   ]
  },
  {
   "cell_type": "code",
   "execution_count": 53,
   "metadata": {},
   "outputs": [],
   "source": [
    "# Shuffle lists\n",
    "random.shuffle(normal_op_filenames)\n",
    "random.shuffle(anomaly_op_filenames)"
   ]
  },
  {
   "cell_type": "code",
   "execution_count": 54,
   "metadata": {},
   "outputs": [],
   "source": [
    "# Calculate validation and test set sizes\n",
    "val_set_size = int(len(normal_op_filenames) * val_ratio)\n",
    "test_set_size = int(len(normal_op_filenames) * test_ratio)"
   ]
  },
  {
   "cell_type": "code",
   "execution_count": 55,
   "metadata": {},
   "outputs": [
    {
     "name": "stdout",
     "output_type": "stream",
     "text": [
      "Number of training samples: 181\n",
      "Number of validation samples: 59\n",
      "Number of test samples: 59\n"
     ]
    }
   ],
   "source": [
    "# Break dataset apart into train, validation, and test sets\n",
    "num_samples = len(normal_op_filenames)\n",
    "filenames_val = normal_op_filenames[:val_set_size]\n",
    "filenames_test = normal_op_filenames[val_set_size:(val_set_size + test_set_size)]\n",
    "filenames_train = normal_op_filenames[(val_set_size + test_set_size):]\n",
    "\n",
    "# Print out number of samples in each set\n",
    "print('Number of training samples:', len(filenames_train))\n",
    "print('Number of validation samples:', len(filenames_val))\n",
    "print('Number of test samples:', len(filenames_test))\n",
    "\n",
    "# Check that our splits add up correctly\n",
    "assert(len(filenames_train) + len(filenames_val) + len(filenames_test)) == num_samples"
   ]
  },
  {
   "cell_type": "code",
   "execution_count": 56,
   "metadata": {},
   "outputs": [],
   "source": [
    "# Function: extract specified features (variances, MAD) from sample\n",
    "def extract_features(sample, max_measurements=0, scale=1):\n",
    "    \n",
    "    features = []\n",
    "    \n",
    "    # Truncate sample\n",
    "    if max_measurements == 0:\n",
    "        max_measurements = sample.shape[0]\n",
    "    sample = sample[0:max_measurements]\n",
    "    \n",
    "    # Scale sample\n",
    "    sample = scale * sample\n",
    "    \n",
    "#     # Variance\n",
    "#     features.append(np.var(sample, axis=0))\n",
    "    \n",
    "#     # Kurtosis\n",
    "#     features.append(stats.kurtosis(sample))\n",
    "    \n",
    "#     # Skew\n",
    "#     features.append(stats.skew(sample))\n",
    "    \n",
    "    # Median absolute deviation (MAD)\n",
    "    features.append(stats.median_absolute_deviation(sample))\n",
    "    \n",
    "#     # Correlation\n",
    "#     cov = np.corrcoef(sample.T)\n",
    "#     features.append(np.array([cov[0,1], cov[0,2], cov[1,2]]))\n",
    "    \n",
    "    # Compute a windowed FFT of each axis in the sample (leave off DC)\n",
    "#     sample = sample[::downsample_factor, :]  # Downsample\n",
    "#     sample = np.floor(sample)                # Round down to int\n",
    "#     hann_window = np.hanning(sample.shape[0])\n",
    "#     for i, axis in enumerate(sample.T):\n",
    "#         fft = abs(np.fft.rfft(axis * hann_window))\n",
    "#         features.append(fft[1:])  # Leave off DC\n",
    "    \n",
    "    return np.array(features).flatten()"
   ]
  },
  {
   "cell_type": "code",
   "execution_count": 57,
   "metadata": {},
   "outputs": [
    {
     "name": "stdout",
     "output_type": "stream",
     "text": [
      "(3,)\n",
      "[0.00796304 0.00289552 0.00470503]\n"
     ]
    },
    {
     "data": {
      "text/plain": [
       "[<matplotlib.lines.Line2D at 0x25816c06048>]"
      ]
     },
     "execution_count": 57,
     "metadata": {},
     "output_type": "execute_result"
    },
    {
     "data": {
      "image/png": "[encoded data removed]",
      "text/plain": [
       "<Figure size 432x288 with 1 Axes>"
      ]
     },
     "metadata": {
      "needs_background": "light"
     },
     "output_type": "display_data"
    }
   ],
   "source": [
    "# Test with 1 sample\n",
    "sample = np.genfromtxt(filenames_train[0], delimiter=',')\n",
    "features = extract_features(sample, max_measurements, scale=raw_scale)\n",
    "print(features.shape)\n",
    "print(features)\n",
    "plt.plot(features)"
   ]
  },
  {
   "cell_type": "code",
   "execution_count": 58,
   "metadata": {},
   "outputs": [],
   "source": [
    "# Function: loop through filenames, creating feature sets\n",
    "def create_feature_set(filenames):\n",
    "    x_out = []\n",
    "    for file in filenames:\n",
    "        sample = np.genfromtxt(file, delimiter=',')\n",
    "        features = extract_features(sample, max_measurements, raw_scale)\n",
    "        x_out.append(features)\n",
    "        \n",
    "    return np.array(x_out)"
   ]
  },
  {
   "cell_type": "code",
   "execution_count": 59,
   "metadata": {},
   "outputs": [
    {
     "name": "stdout",
     "output_type": "stream",
     "text": [
      "Extracted features from training set. Shape: (181, 3)\n",
      "Extracted features from validation set. Shape: (59, 3)\n",
      "Extracted features from test set. Shape: (59, 3)\n"
     ]
    }
   ],
   "source": [
    "# Create training, validation, and test sets\n",
    "x_train = create_feature_set(filenames_train)\n",
    "print('Extracted features from training set. Shape:', x_train.shape)\n",
    "x_val = create_feature_set(filenames_val)\n",
    "print('Extracted features from validation set. Shape:', x_val.shape)\n",
    "x_test = create_feature_set(filenames_test)\n",
    "print('Extracted features from test set. Shape:', x_test.shape)"
   ]
  },
  {
   "cell_type": "code",
   "execution_count": 60,
   "metadata": {},
   "outputs": [
    {
     "name": "stdout",
     "output_type": "stream",
     "text": [
      "[0.00758718 0.00401157 0.00491348]\n",
      "[[1.25490339e-05 5.76551571e-06 1.04977088e-06]\n",
      " [5.76551571e-06 1.31627009e-05 3.20010990e-06]\n",
      " [1.04977088e-06 3.20010990e-06 2.05127019e-06]]\n"
     ]
    }
   ],
   "source": [
    "# Use training data (normal) to calculate mean and covariance matrices\n",
    "model_mu = np.mean(x_train, axis=0)\n",
    "model_cov = np.cov(x_train.T)\n",
    "print(model_mu)\n",
    "print(model_cov)"
   ]
  },
  {
   "cell_type": "code",
   "execution_count": 61,
   "metadata": {},
   "outputs": [],
   "source": [
    "# Calculate mahalanobis distance of x from group described by mu, cov\n",
    "# Based on: https://www.machinelearningplus.com/statistics/mahalanobis-distance/\n",
    "def mahalanobis(x, mu, cov):\n",
    "    x_minus_mu = x - mu\n",
    "    inv_covmat = sp.linalg.inv(cov)\n",
    "    left_term = np.dot(x_minus_mu, inv_covmat)\n",
    "    mahal = np.dot(left_term, x_minus_mu.T)\n",
    "    if mahal.shape == ():\n",
    "        return mahal\n",
    "    else:\n",
    "        return mahal.diagonal()"
   ]
  },
  {
   "cell_type": "code",
   "execution_count": 62,
   "metadata": {},
   "outputs": [
    {
     "name": "stdout",
     "output_type": "stream",
     "text": [
      "Average MD for normal validation set: 5.605364229263428\n",
      "Standard deviation of MDs for normal validation set: 26.274413942663074\n",
      "Recommended threshold (3x std dev + avg): 84.42860605725265\n"
     ]
    },
    {
     "data": {
      "text/plain": [
       "(array([57.,  0.,  0.,  1.,  0.,  0.,  0.,  0.,  0.,  0.,  0.,  0.,  0.,\n",
       "         0.,  0.,  0.,  0.,  0.,  0.,  1.]),\n",
       " array([2.59178749e-02, 1.01031043e+01, 2.01802908e+01, 3.02574772e+01,\n",
       "        4.03346637e+01, 5.04118501e+01, 6.04890366e+01, 7.05662230e+01,\n",
       "        8.06434095e+01, 9.07205960e+01, 1.00797782e+02, 1.10874969e+02,\n",
       "        1.20952155e+02, 1.31029342e+02, 1.41106528e+02, 1.51183715e+02,\n",
       "        1.61260901e+02, 1.71338088e+02, 1.81415274e+02, 1.91492460e+02,\n",
       "        2.01569647e+02]),\n",
       " <a list of 20 Patch objects>)"
      ]
     },
     "execution_count": 62,
     "metadata": {},
     "output_type": "execute_result"
    },
    {
     "data": {
      "image/png": "[encoded data removed]",
      "text/plain": [
       "<Figure size 432x288 with 1 Axes>"
      ]
     },
     "metadata": {
      "needs_background": "light"
     },
     "output_type": "display_data"
    }
   ],
   "source": [
    "# Calculate the mahalanobis distance for each validation sample\n",
    "normal_mds = mahalanobis(x_val, model_mu, model_cov)\n",
    "print('Average MD for normal validation set:', np.average(normal_mds))\n",
    "print('Standard deviation of MDs for normal validation set:', np.std(normal_mds))\n",
    "print('Recommended threshold (3x std dev + avg):', (3*np.std(normal_mds)) + np.average(normal_mds))\n",
    "fig, ax = plt.subplots(1,1)\n",
    "ax.hist(normal_mds, bins=20, label='normal', color='blue', alpha=0.7)"
   ]
  },
  {
   "cell_type": "code",
   "execution_count": 63,
   "metadata": {},
   "outputs": [
    {
     "name": "stdout",
     "output_type": "stream",
     "text": [
      "Extracted features from anomaly set. Shape: (500, 3)\n"
     ]
    }
   ],
   "source": [
    "# Extract features from anomaly test set (truncate to length of X test set)\n",
    "anomaly_features = create_feature_set(anomaly_op_filenames[:max_anomaly_samples])\n",
    "print('Extracted features from anomaly set. Shape:', anomaly_features.shape)"
   ]
  },
  {
   "cell_type": "code",
   "execution_count": 64,
   "metadata": {},
   "outputs": [
    {
     "name": "stdout",
     "output_type": "stream",
     "text": [
      "Average MD for anomaly set: 94.98078362063295\n",
      "Standard deviation of MDs for validation set: 103.28829490029062\n"
     ]
    }
   ],
   "source": [
    "# Calculate the mahalanobis distance for each anomaly sample\n",
    "anomaly_mds = mahalanobis(anomaly_features, model_mu, model_cov)\n",
    "print('Average MD for anomaly set:', np.average(anomaly_mds))\n",
    "print('Standard deviation of MDs for validation set:', np.std(anomaly_mds))"
   ]
  },
  {
   "cell_type": "code",
   "execution_count": 65,
   "metadata": {},
   "outputs": [
    {
     "data": {
      "text/plain": [
       "(array([177.,  99.,  36.,   0.,   0.,   0.,   0.,   1.,  11.,  33.,  44.,\n",
       "         28.,  27.,  16.,  12.,   9.,   4.,   1.,   1.,   1.]),\n",
       " array([9.43255192e-02, 1.92800984e+01, 3.84658714e+01, 5.76516443e+01,\n",
       "        7.68374172e+01, 9.60231901e+01, 1.15208963e+02, 1.34394736e+02,\n",
       "        1.53580509e+02, 1.72766282e+02, 1.91952055e+02, 2.11137828e+02,\n",
       "        2.30323601e+02, 2.49509373e+02, 2.68695146e+02, 2.87880919e+02,\n",
       "        3.07066692e+02, 3.26252465e+02, 3.45438238e+02, 3.64624011e+02,\n",
       "        3.83809784e+02]),\n",
       " <a list of 20 Patch objects>)"
      ]
     },
     "execution_count": 65,
     "metadata": {},
     "output_type": "execute_result"
    },
    {
     "data": {
      "image/png": "[encoded data removed]",
      "text/plain": [
       "<Figure size 432x288 with 1 Axes>"
      ]
     },
     "metadata": {
      "needs_background": "light"
     },
     "output_type": "display_data"
    }
   ],
   "source": [
    "# Plot histograms of normal validation vs. anomaly sets (MSEs)\n",
    "fig, ax = plt.subplots(1,1)\n",
    "plt.xscale(\"log\")\n",
    "ax.hist(normal_mds, bins=20, label='normal', color='blue', alpha=0.7)\n",
    "ax.hist(anomaly_mds, bins=20, label='anomaly', color='red', alpha=0.7)"
   ]
  },
  {
   "cell_type": "code",
   "execution_count": 109,
   "metadata": {},
   "outputs": [],
   "source": [
    "# Create a classifier (0 = normal, 1 = anomaly)\n",
    "def detect_anomaly(x, model_mu, model_cov, threshold=0):\n",
    "    md = mahalanobis(x, model_mu, model_cov)\n",
    "    if md > threshold:\n",
    "        return 1\n",
    "    else:\n",
    "        return 0"
   ]
  },
  {
   "cell_type": "code",
   "execution_count": 110,
   "metadata": {},
   "outputs": [],
   "source": [
    "# Choose a threshold\n",
    "anomaly_threshold = 5"
   ]
  },
  {
   "cell_type": "code",
   "execution_count": 111,
   "metadata": {},
   "outputs": [
    {
     "name": "stdout",
     "output_type": "stream",
     "text": [
      "[0, 0, 0, 0, 0, 0, 0, 1, 0, 0, 0, 0, 1, 0, 0, 0, 1, 0, 0, 0, 0, 0, 0, 1, 0, 0, 0, 0, 0, 0, 0, 1, 0, 0, 0, 0, 0, 0, 0, 0, 0, 1, 0, 0, 0, 0, 0, 0, 0, 0, 0, 0, 0, 1, 0, 0, 0, 0, 0]\n"
     ]
    }
   ],
   "source": [
    "# Perform classification on test set\n",
    "pred_test = [detect_anomaly(x, model_mu, model_cov, anomaly_threshold) for x in x_test]\n",
    "print(pred_test)"
   ]
  },
  {
   "cell_type": "code",
   "execution_count": 112,
   "metadata": {},
   "outputs": [
    {
     "name": "stdout",
     "output_type": "stream",
     "text": [
      "[1, 1, 1, 1, 1, 1, 0, 1, 1, 1, 1, 1, 0, 1, 0, 0, 1, 1, 1, 1, 0, 1, 1, 1, 1, 1, 1, 1, 1, 1, 1, 1, 0, 1, 1, 1, 1, 1, 1, 1, 1, 1, 1, 0, 1, 1, 1, 1, 0, 0, 1, 1, 1, 1, 1, 0, 1, 1, 1, 1, 1, 0, 1, 1, 1, 1, 0, 0, 0, 0, 1, 1, 1, 1, 1, 0, 1, 0, 1, 0, 0, 1, 1, 1, 1, 1, 1, 0, 1, 1, 1, 1, 1, 1, 1, 0, 1, 0, 0, 1, 0, 1, 1, 0, 1, 0, 0, 1, 1, 1, 1, 1, 1, 1, 1, 1, 1, 1, 0, 1, 1, 0, 1, 1, 1, 1, 1, 1, 1, 1, 1, 1, 0, 1, 1, 1, 1, 1, 1, 1, 1, 1, 1, 1, 1, 0, 1, 1, 0, 1, 1, 1, 0, 1, 1, 0, 0, 0, 0, 0, 1, 1, 1, 1, 1, 1, 0, 1, 1, 1, 0, 1, 1, 1, 0, 1, 1, 0, 1, 1, 0, 1, 0, 1, 1, 1, 0, 1, 1, 1, 1, 1, 1, 1, 1, 1, 0, 1, 1, 1, 0, 1, 1, 1, 1, 1, 1, 1, 1, 1, 1, 1, 1, 1, 1, 1, 1, 1, 1, 0, 1, 1, 1, 0, 1, 1, 1, 0, 1, 0, 1, 0, 0, 1, 0, 1, 1, 1, 1, 0, 1, 1, 1, 1, 1, 0, 1, 1, 1, 1, 1, 1, 1, 1, 1, 1, 1, 1, 1, 1, 1, 1, 0, 1, 1, 1, 0, 1, 0, 1, 1, 1, 0, 1, 1, 1, 1, 1, 1, 1, 1, 0, 1, 0, 1, 1, 1, 1, 1, 1, 0, 1, 1, 1, 0, 1, 1, 1, 1, 0, 1, 1, 1, 1, 1, 1, 1, 0, 1, 0, 1, 1, 1, 1, 1, 1, 1, 1, 0, 0, 0, 0, 0, 1, 1, 1, 0, 0, 1, 1, 1, 1, 1, 1, 1, 1, 0, 1, 0, 1, 1, 1, 1, 1, 0, 1, 1, 0, 1, 0, 0, 1, 1, 1, 1, 1, 1, 0, 1, 1, 1, 1, 1, 1, 1, 1, 1, 0, 1, 0, 1, 1, 0, 1, 1, 0, 0, 1, 0, 1, 1, 1, 1, 1, 1, 0, 1, 1, 1, 1, 1, 0, 0, 1, 1, 1, 1, 0, 1, 1, 1, 1, 1, 0, 1, 1, 0, 1, 1, 0, 1, 1, 1, 1, 1, 1, 1, 1, 1, 0, 0, 1, 0, 1, 1, 1, 0, 1, 1, 1, 1, 1, 1, 0, 1, 1, 1, 1, 1, 1, 0, 1, 1, 1, 1, 1, 1, 1, 1, 1, 1, 1, 1, 1, 1, 0, 1, 1, 1, 1, 0, 1, 1, 1, 1, 1, 1, 1, 1, 1, 0, 1, 1, 1, 1, 1, 1, 1, 1, 1, 1, 1, 1, 1, 0, 0, 1, 1, 1, 0, 1, 1, 1, 0, 0, 1, 1, 1, 1, 1]\n"
     ]
    }
   ],
   "source": [
    "# Perform classification on anomaly set\n",
    "pred_anomaly = [detect_anomaly(x, model_mu, model_cov, anomaly_threshold) for x in anomaly_features]\n",
    "print(pred_anomaly)"
   ]
  },
  {
   "cell_type": "code",
   "execution_count": 113,
   "metadata": {},
   "outputs": [],
   "source": [
    "# Combine predictions into one long list and create a label list\n",
    "pred = np.array(pred_test + pred_anomaly)\n",
    "labels = ([0] * len(pred_test)) + ([1] * len(pred_anomaly))"
   ]
  },
  {
   "cell_type": "code",
   "execution_count": 114,
   "metadata": {},
   "outputs": [
    {
     "name": "stdout",
     "output_type": "stream",
     "text": [
      "[[ 52   7]\n",
      " [108 392]]\n"
     ]
    }
   ],
   "source": [
    "# Create confusion matrix\n",
    "cm = confusion_matrix(labels, pred)\n",
    "print(cm)"
   ]
  },
  {
   "cell_type": "code",
   "execution_count": 115,
   "metadata": {},
   "outputs": [
    {
     "data": {
      "text/plain": [
       "Text(33.0, 0.5, 'Actual')"
      ]
     },
     "execution_count": 115,
     "metadata": {},
     "output_type": "execute_result"
    },
    {
     "data": {
      "image/png": "[encoded data removed]",
      "text/plain": [
       "<Figure size 432x288 with 2 Axes>"
      ]
     },
     "metadata": {
      "needs_background": "light"
     },
     "output_type": "display_data"
    }
   ],
   "source": [
    "# Make confusion matrix pretty\n",
    "df_cm = pd.DataFrame(cm, index=['normal', 'anomaly'], columns=['normal', 'anomaly'])\n",
    "plt.figure()\n",
    "sn.heatmap(df_cm, annot=True)\n",
    "plt.title('Confusion Matrix')\n",
    "plt.xlabel('Prediction')\n",
    "plt.ylabel('Actual')"
   ]
  },
  {
   "cell_type": "code",
   "execution_count": 116,
   "metadata": {},
   "outputs": [],
   "source": [
    "# Save Mahalanobis Distance model\n",
    "np.savez(md_file_name + '.npz', model_mu=model_mu, model_cov=model_cov)"
   ]
  },
  {
   "cell_type": "code",
   "execution_count": null,
   "metadata": {},
   "outputs": [],
   "source": []
  }
 ],
 "metadata": {
  "kernelspec": {
   "display_name": "Python 3",
   "language": "python",
   "name": "python3"
  },
  "language_info": {
   "codemirror_mode": {
    "name": "ipython",
    "version": 3
   },
   "file_extension": ".py",
   "mimetype": "text/x-python",
   "name": "python",
   "nbconvert_exporter": "python",
   "pygments_lexer": "ipython3",
   "version": "3.7.6"
  }
 },
 "nbformat": 4,
 "nbformat_minor": 4
}
