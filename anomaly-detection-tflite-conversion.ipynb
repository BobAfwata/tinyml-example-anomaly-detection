{
 "cells": [
  {
   "cell_type": "code",
   "execution_count": 1,
   "metadata": {},
   "outputs": [],
   "source": [
    "import numpy as np\n",
    "import matplotlib.pyplot as plt\n",
    "import tensorflow as tf\n",
    "from tensorflow.keras import models"
   ]
  },
  {
   "cell_type": "code",
   "execution_count": 2,
   "metadata": {},
   "outputs": [
    {
     "name": "stdout",
     "output_type": "stream",
     "text": [
      "Python 3.7.6\n",
      "Numpy 1.18.1\n",
      "TensorFlow 2.1.0\n",
      "Keras 2.2.4-tf\n"
     ]
    }
   ],
   "source": [
    "# Print versions\n",
    "!python --version\n",
    "print('Numpy ' + np.__version__)\n",
    "print('TensorFlow ' + tf.__version__)\n",
    "print('Keras ' + tf.keras.__version__)"
   ]
  },
  {
   "cell_type": "code",
   "execution_count": 74,
   "metadata": {},
   "outputs": [
    {
     "name": "stdout",
     "output_type": "stream",
     "text": [
      "Max measurements per file: 128\n",
      "Downsample factor: 2\n",
      "Window length: 64\n"
     ]
    }
   ],
   "source": [
    "# Settings\n",
    "raw_scale = 100             # Multiply raw values to fit into integers\n",
    "sensor_sample_rate = 200    # Hz\n",
    "desired_sample_rate = 50    # Hz\n",
    "sample_time = 0.64          # Time (sec) length of each sample\n",
    "samples_per_file = 128      # Expected number of measurements in each file (truncate to this)\n",
    "\n",
    "max_measurements = int(sample_time * sensor_sample_rate)\n",
    "downsample_factor = int(samples_per_file / desired_sample_rate)\n",
    "win_len = int(max_measurements / downsample_factor)\n",
    "\n",
    "keras_model_name = 'fan_low_model'           # Will be given .h5 suffix\n",
    "tflite_model_name = 'fan_low_model'          # Will be given .tflite suffix\n",
    "c_model_name = 'fan_low_model'               # Will be given .h suffix\n",
    "c_hann_name = 'hann_window'                  # Will be given .h suffix\n",
    "sample_file_name = 'normal_anomaly_samples'  # Will be given .npz suffix\n",
    "rep_dataset_name = 'normal_anomaly_test_set' # Will be given .npz suffix\n",
    "\n",
    "print('Max measurements per file:', max_measurements)\n",
    "print('Downsample factor:', downsample_factor)\n",
    "print('Window length:', win_len)"
   ]
  },
  {
   "cell_type": "code",
   "execution_count": 75,
   "metadata": {},
   "outputs": [],
   "source": [
    "# Load model\n",
    "model = models.load_model(keras_model_name + '.h5')"
   ]
  },
  {
   "cell_type": "code",
   "execution_count": 76,
   "metadata": {},
   "outputs": [],
   "source": [
    "# Load test set\n",
    "npzfile = np.load(rep_dataset_name + '.npz')\n",
    "x_test = npzfile['x_test']"
   ]
  },
  {
   "cell_type": "code",
   "execution_count": 77,
   "metadata": {},
   "outputs": [],
   "source": [
    "# Generator function that provides representative data samples for quantization\n",
    "def representative_dataset_gen():\n",
    "    for sample in x_test:\n",
    "        sample = np.expand_dims(sample.astype(np.float32), axis=0)\n",
    "        yield [sample]"
   ]
  },
  {
   "cell_type": "code",
   "execution_count": 85,
   "metadata": {},
   "outputs": [
    {
     "data": {
      "text/plain": [
       "11660"
      ]
     },
     "execution_count": 85,
     "metadata": {},
     "output_type": "execute_result"
    }
   ],
   "source": [
    "# Convert Keras model to a tflite model\n",
    "converter = tf.lite.TFLiteConverter.from_keras_model(model)\n",
    "#converter.optimizations = [tf.lite.Optimize.OPTIMIZE_FOR_SIZE]\n",
    "#converter.optimizations = [tf.lite.Optimize.DEFAULT]\n",
    "\n",
    "# Quantization settings\n",
    "#converter.representative_dataset = representative_dataset_gen\n",
    "\n",
    "# Convert and save\n",
    "tflite_model = converter.convert()\n",
    "open(tflite_model_name + '.tflite', 'wb').write(tflite_model)"
   ]
  },
  {
   "cell_type": "code",
   "execution_count": 86,
   "metadata": {},
   "outputs": [],
   "source": [
    "# Function: Convert some values into an array for C programming\n",
    "def create_c_lookup_table(array, var_type, var_name, line_limit=80):\n",
    "\n",
    "    c_str = ''\n",
    "\n",
    "    # Create header guard\n",
    "    c_str += '#ifndef ' + var_name.upper() + '_H\\n'\n",
    "    c_str += '#define ' + var_name.upper() + '_H\\n\\n'\n",
    "\n",
    "    # Add array length at top of file\n",
    "    c_str += 'const unsigned int ' + var_name + '_len = ' + str(len(array)) + ';\\n'\n",
    "\n",
    "    # Declare C variable\n",
    "    c_str += 'const ' + var_type + ' ' + var_name + '[] = {\\n'\n",
    "    \n",
    "    # Create string for the array\n",
    "    indent = '  '\n",
    "    array_str = indent\n",
    "    line_len = len(indent)\n",
    "    val_sep = ', '\n",
    "    for i, val in enumerate(array):\n",
    "\n",
    "        # Create a new line if string is over line limit\n",
    "        val_str = str(val)\n",
    "        if line_len + len(val_str) + len(val_sep) > line_limit:\n",
    "            array_str += '\\n' + indent\n",
    "            line_len = len(indent)\n",
    "\n",
    "        # Add value and separator\n",
    "        array_str += val_str\n",
    "        line_len += len(val_str)\n",
    "        if (i + 1) < len(array):\n",
    "            array_str += val_sep\n",
    "            line_len += len(val_sep)\n",
    "\n",
    "    # Add closing brace\n",
    "    c_str += array_str + '\\n};\\n\\n'\n",
    "\n",
    "    # Close out header guard\n",
    "    c_str += '#endif //' + var_name.upper() + '_H'\n",
    "\n",
    "    return c_str"
   ]
  },
  {
   "cell_type": "code",
   "execution_count": 87,
   "metadata": {},
   "outputs": [],
   "source": [
    "# Write TFLite model to a C source (or header) file\n",
    "with open(c_model_name + '.h', 'w') as file:\n",
    "    hex_array = [format(val, '#04x') for val in tflite_model]\n",
    "    file.write(create_c_lookup_table(hex_array, 'unsigned char', c_model_name))"
   ]
  },
  {
   "cell_type": "code",
   "execution_count": 81,
   "metadata": {},
   "outputs": [],
   "source": [
    "# Create a hanning window lookup table\n",
    "with open(c_hann_name + '.h', 'w') as file:\n",
    "    file.write(create_c_lookup_table(np.hanning(win_len), 'float', c_hann_name))"
   ]
  },
  {
   "cell_type": "code",
   "execution_count": 82,
   "metadata": {},
   "outputs": [],
   "source": [
    "# Load samples for testing\n",
    "npzfile = np.load(sample_file_name + '.npz')\n",
    "normal_sample = npzfile['normal_sample']\n",
    "anomaly_sample = npzfile['anomaly_sample']"
   ]
  },
  {
   "cell_type": "code",
   "execution_count": 83,
   "metadata": {},
   "outputs": [
    {
     "name": "stdout",
     "output_type": "stream",
     "text": [
      "X\n",
      "0.005859, 0.004395, 0.003418, 0.008301, 0.001953, 0.010254, 0.000977, -0.001465, 0.007324, 0.002441, -0.001953, 0.005859, -0.004395, 0.005859, -0.006836, 0.004883, 0.004395, 0.000977, 0.008301, -0.004395, 0.013184, 0.003418, -0.001465, 0.007813, 0.002441, 0.003418, 0.009277, 0.002441, 0.010254, -0.001465, 0.006836, 0.001465, 0.000977, 0.006836, -0.005859, 0.007813, 0.027832, -0.004395, 0.008301, 0.001465, 0.007813, 0.007324, 0.00293, 0.011719, 0.002441, 0.012695, 0.005371, 0.006348, 0.009277, 0.00293, 0.009277, 0.005371, -0.005371, 0.004883, -0.003906, 0.001953, 0.002441, -0.001465, 0.006348, -0.003906, 0.008301, 0.0, 0.006348, 0.008301, 0.001465, 0.010254, 0.012207, -0.000488, 0.013184, 0.000488, 0.006348, 0.003906, 0.00293, 0.008789, 0.000488, 0.005859, -0.000977, 0.00293, 0.003906, -0.000488, 0.01123, 0.011719, -0.00293, 0.006836, 0.002441, 0.00293, 0.006836, 0.00293, 0.008789, -0.002441, 0.007813, 0.003418, 0.007324, 0.005859, -0.002441, 0.000488, 0.005371, -0.000977, 0.008301, 0.000488, 0.00293, 0.006348, 0.003906, 0.008301, -0.000977, 0.007324, 0.001953, 0.005859, 0.004395, 0.003418, 0.005859, 0.007813, 0.000488, 0.007324, 0.001465, 0.004883, 0.003418, 0.0, 0.007324, 0.002441, 0.007324, 0.003906, 0.000488, 0.008789, 0.002441, 0.002441, 0.009766, 0.001953, \n",
      "Y\n",
      "0.116699, 0.139648, 0.129395, 0.120117, 0.15332, 0.114258, 0.117676, 0.152832, 0.109863, 0.155762, 0.121582, 0.133789, 0.141113, 0.115234, 0.154297, 0.115234, 0.144043, 0.128418, 0.124023, 0.149414, 0.143555, 0.125, 0.155273, 0.11377, 0.146484, 0.118652, 0.128906, 0.147461, 0.114258, 0.158691, 0.108887, 0.14502, 0.122559, 0.128906, 0.145996, 0.140137, 0.122559, 0.149902, 0.110352, 0.150879, 0.117676, 0.134277, 0.140625, 0.118652, 0.157715, 0.114746, 0.142578, 0.124512, 0.130371, 0.146973, 0.130859, 0.124023, 0.153809, 0.112793, 0.151855, 0.116699, 0.138672, 0.134277, 0.121094, 0.152344, 0.113281, 0.145508, 0.126465, 0.126953, 0.150391, 0.129395, 0.129395, 0.149414, 0.115234, 0.15625, 0.118164, 0.135742, 0.140137, 0.117188, 0.15332, 0.111328, 0.146973, 0.123047, 0.131836, 0.143066, 0.124023, 0.124023, 0.149902, 0.113281, 0.149414, 0.11377, 0.138184, 0.138184, 0.118652, 0.15918, 0.108887, 0.152344, 0.123047, 0.126465, 0.146484, 0.130371, 0.123535, 0.149414, 0.11084, 0.158203, 0.113281, 0.141113, 0.134766, 0.116699, 0.15625, 0.111328, 0.150879, 0.123535, 0.095703, 0.147461, 0.125977, 0.121094, 0.148926, 0.109863, 0.157715, 0.113281, 0.139648, 0.132324, 0.119629, 0.155273, 0.107422, 0.155762, 0.124023, 0.099121, 0.149902, 0.122559, 0.131348, 0.148438, \n",
      "Z\n",
      "0.959961, 1.0, 0.984375, 0.985352, 1.010254, 0.98584, 0.97168, 1.005859, 0.96875, 1.011719, 0.973145, 0.991699, 0.993652, 0.974121, 1.010742, 0.969727, 1.010254, 0.984375, 0.985352, 1.005859, 0.981934, 0.983887, 1.004883, 0.963867, 1.004395, 0.972656, 0.998535, 0.998047, 0.976563, 1.012695, 0.97168, 1.01123, 0.980957, 0.991211, 1.000488, 0.979004, 0.990723, 1.000977, 0.964356, 1.015137, 0.977051, 1.000977, 1.001465, 0.989258, 1.015137, 0.965332, 1.009277, 0.979492, 0.987305, 0.998047, 0.979004, 0.986816, 1.00293, 0.969727, 1.013184, 0.97168, 1.003906, 0.990723, 0.978516, 1.013184, 0.96875, 1.008301, 0.98291, 0.956055, 1.00293, 0.977539, 0.987793, 1.001465, 0.973145, 1.007813, 0.974121, 1.003906, 0.989746, 0.981445, 1.01123, 0.975098, 1.016602, 0.973145, 0.960938, 1.005371, 0.970703, 0.98877, 1.004883, 0.969238, 1.015137, 0.974609, 1.003906, 0.995117, 0.981445, 1.007324, 0.965332, 1.013672, 0.974609, 0.967285, 1.004883, 0.979981, 0.984863, 1.0, 0.974609, 1.013672, 0.969727, 1.003906, 0.988281, 0.98291, 1.004395, 0.96875, 1.014648, 1.003906, 0.962891, 1.004395, 0.983398, 0.988281, 1.001465, 0.974609, 1.01123, 0.969238, 1.009277, 0.992188, 0.984863, 1.01123, 0.96582, 1.010742, 1.003418, 0.963379, 1.010742, 0.979981, 0.995606, 0.992188, "
     ]
    }
   ],
   "source": [
    "# Print out normal sample, truncated to 128 measurements\n",
    "print(\"X\")\n",
    "for i in normal_sample[0:128, 0]:\n",
    "    print(str(i), end=', ')\n",
    "print()\n",
    "print(\"Y\")\n",
    "for i in normal_sample[0:128, 1]:\n",
    "    print(str(i), end=', ')\n",
    "print()\n",
    "print(\"Z\")\n",
    "for i in normal_sample[0:128, 2]:\n",
    "    print(str(i), end=', ')"
   ]
  },
  {
   "cell_type": "code",
   "execution_count": 84,
   "metadata": {},
   "outputs": [
    {
     "name": "stdout",
     "output_type": "stream",
     "text": [
      "X\n",
      "0.019043, 0.025879, 0.021973, 0.020996, 0.022949, 0.01709, 0.022949, 0.017578, 0.024414, 0.021484, 0.020508, 0.020508, 0.017578, 0.023926, 0.025879, 0.021973, 0.026367, 0.020508, 0.025879, 0.020996, 0.027832, 0.026367, 0.018555, 0.025391, 0.021973, 0.022949, 0.024902, 0.020996, 0.022461, 0.019531, 0.016602, 0.026367, 0.022949, 0.022949, 0.021973, 0.024414, 0.023926, 0.021484, 0.023438, 0.018555, 0.027344, 0.023438, 0.02002, 0.024414, 0.023438, 0.021973, 0.020996, 0.020996, 0.025391, 0.020996, 0.023438, 0.022461, 0.021973, 0.022461, 0.019531, 0.023438, 0.022949, 0.02002, 0.025391, 0.023438, 0.023438, 0.024414, 0.019531, 0.026855, 0.023438, 0.027344, 0.018066, 0.021973, 0.024414, 0.022461, 0.021973, 0.024902, 0.022461, 0.021973, 0.020508, 0.024414, 0.022949, 0.020996, 0.022949, 0.022949, 0.023926, 0.021484, 0.02002, 0.027832, 0.021973, 0.020508, 0.023926, 0.024414, 0.024414, 0.021484, 0.023926, 0.024414, 0.021973, 0.021973, 0.021484, 0.025391, 0.022461, 0.020508, 0.023438, 0.020996, 0.022949, 0.02002, 0.022949, 0.024902, 0.021973, 0.023438, 0.024902, 0.019531, 0.023438, 0.020508, 0.024414, 0.021973, 0.020508, 0.023438, 0.020996, 0.022461, 0.020996, 0.02002, 0.026367, 0.019531, 0.021973, 0.023438, 0.019043, 0.024902, 0.023438, 0.02002, 0.024902, 0.022461, \n",
      "Y\n",
      "0.125, 0.133301, 0.125, 0.133301, 0.12793, 0.123047, 0.133789, 0.128418, 0.133789, 0.129395, 0.133301, 0.133301, 0.125977, 0.129883, 0.135742, 0.126953, 0.135254, 0.123047, 0.134277, 0.130371, 0.128906, 0.131836, 0.127441, 0.134766, 0.124512, 0.128906, 0.133789, 0.129883, 0.129883, 0.128906, 0.128906, 0.134277, 0.123535, 0.134766, 0.133301, 0.128906, 0.13916, 0.124512, 0.138184, 0.126465, 0.133789, 0.135254, 0.12793, 0.131836, 0.131836, 0.124512, 0.134766, 0.126953, 0.132813, 0.126953, 0.129395, 0.131348, 0.125977, 0.133789, 0.126953, 0.124512, 0.131836, 0.126953, 0.130859, 0.131836, 0.125977, 0.136719, 0.124512, 0.131836, 0.126465, 0.133301, 0.132813, 0.127441, 0.136719, 0.13623, 0.123535, 0.138184, 0.12793, 0.137207, 0.129395, 0.128418, 0.135742, 0.129395, 0.135742, 0.126465, 0.130371, 0.134277, 0.123535, 0.130859, 0.133301, 0.122559, 0.136719, 0.126465, 0.137207, 0.133789, 0.128906, 0.133789, 0.12207, 0.134766, 0.128906, 0.132813, 0.134277, 0.12793, 0.131836, 0.131836, 0.126953, 0.137207, 0.125488, 0.133301, 0.129883, 0.126953, 0.135254, 0.118164, 0.137207, 0.127441, 0.134766, 0.134277, 0.132324, 0.131348, 0.134766, 0.123047, 0.140137, 0.125977, 0.135742, 0.128418, 0.129395, 0.13623, 0.123535, 0.131836, 0.129395, 0.121094, 0.135742, 0.128906, \n",
      "Z\n",
      "0.963867, 1.0, 0.973145, 0.984375, 0.994141, 0.98291, 0.994141, 0.978516, 0.999023, 0.984863, 0.988281, 0.994141, 0.983398, 0.983887, 0.995117, 0.976074, 1.000977, 0.974609, 1.001465, 0.987793, 0.990234, 1.000488, 0.979492, 0.992676, 0.982422, 0.992188, 0.987793, 0.975586, 0.990234, 0.995606, 0.979492, 0.999512, 0.977539, 0.994629, 0.985352, 0.981445, 1.001953, 0.977051, 0.998047, 0.976563, 0.977051, 0.990723, 0.979981, 0.98291, 0.990723, 0.984375, 0.999512, 0.976563, 0.998535, 0.981445, 0.988281, 0.993164, 0.977051, 1.00293, 0.994141, 0.976563, 0.994629, 0.981445, 0.989746, 0.993164, 0.991211, 0.996094, 0.980469, 0.98877, 0.978516, 0.988281, 0.995117, 0.979981, 0.986328, 0.985352, 0.974121, 0.999023, 0.977051, 0.990723, 0.992188, 0.987793, 1.001953, 0.980957, 0.999512, 0.981934, 0.98877, 0.992676, 0.978027, 0.983887, 0.990234, 0.977539, 0.997559, 0.979492, 1.000488, 0.986816, 0.981934, 0.997559, 0.976563, 0.997559, 0.980469, 0.989258, 0.990723, 0.979492, 0.991699, 0.991699, 0.984375, 0.995117, 0.979004, 0.992188, 0.987793, 0.98877, 0.99707, 0.975098, 0.995117, 0.975098, 0.977539, 0.992676, 0.977051, 0.992676, 0.993652, 0.976563, 1.004395, 0.977051, 0.996094, 0.982422, 0.987793, 0.995606, 0.979004, 0.993652, 0.994629, 0.977539, 0.993652, 0.988281, "
     ]
    }
   ],
   "source": [
    "# Print out anomaly sample, truncated to 128 measurements\n",
    "print(\"X\")\n",
    "for i in anomaly_sample[0:128, 0]:\n",
    "    print(str(i), end=', ')\n",
    "print()\n",
    "print(\"Y\")\n",
    "for i in anomaly_sample[0:128, 1]:\n",
    "    print(str(i), end=', ')\n",
    "print()\n",
    "print(\"Z\")\n",
    "for i in anomaly_sample[0:128, 2]:\n",
    "    print(str(i), end=', ')"
   ]
  },
  {
   "cell_type": "code",
   "execution_count": 64,
   "metadata": {},
   "outputs": [],
   "source": [
    "# Function: extract specified features (variances, MAD) from sample\n",
    "def extract_features(sample, max_measurements=0, scale=1):\n",
    "    \n",
    "    features = []\n",
    "    \n",
    "    # Truncate sample\n",
    "    if max_measurements == 0:\n",
    "        max_measurements = sample.shape[0]\n",
    "    sample = sample[0:max_measurements]\n",
    "    \n",
    "    # Scale sample\n",
    "    sample = scale * sample\n",
    "    \n",
    "    # Compute a windowed FFT of each axis in the sample (leave off DC)\n",
    "    sample = sample[::downsample_factor, :]  # Downsample\n",
    "    sample = np.floor(sample)                # Round down to int\n",
    "    hann_window = np.hanning(sample.shape[0])\n",
    "    for i, axis in enumerate(sample.T):\n",
    "        fft = abs(np.fft.rfft(axis * hann_window))\n",
    "        features.append(fft[1:])  # Leave off DC\n",
    "    \n",
    "    return np.floor(np.array(features).flatten())"
   ]
  },
  {
   "cell_type": "code",
   "execution_count": 65,
   "metadata": {},
   "outputs": [
    {
     "name": "stdout",
     "output_type": "stream",
     "text": [
      "[0.000e+00 1.000e+00 3.000e+00 4.000e+00 4.000e+00 3.000e+00 2.000e+00\n",
      " 1.000e+00 0.000e+00 0.000e+00 1.000e+00 5.000e+00 5.000e+00 1.000e+00\n",
      " 1.000e+00 1.000e+00 3.000e+00 3.000e+00 0.000e+00 3.000e+00 5.000e+00\n",
      " 3.000e+00 2.000e+00 2.000e+00 0.000e+00 2.000e+00 2.000e+00 1.000e+00\n",
      " 2.000e+00 3.000e+00 1.000e+00 3.000e+00 2.090e+02 7.000e+00 5.000e+00\n",
      " 1.500e+01 1.200e+01 2.000e+00 1.000e+00 1.000e+00 2.000e+00 1.000e+00\n",
      " 2.000e+00 1.800e+01 2.500e+01 7.000e+00 1.000e+00 1.000e+00 4.000e+00\n",
      " 3.000e+00 2.000e+00 2.000e+00 3.000e+00 3.000e+00 1.000e+00 2.000e+00\n",
      " 4.000e+00 4.000e+00 3.000e+00 2.000e+00 3.000e+00 3.000e+00 2.000e+00\n",
      " 0.000e+00 1.588e+03 1.700e+01 1.100e+01 9.000e+00 8.000e+00 1.000e+00\n",
      " 2.000e+00 2.000e+00 4.000e+00 2.000e+00 4.000e+00 2.400e+01 3.100e+01\n",
      " 1.000e+01 1.000e+00 1.000e+00 2.000e+00 3.000e+00 5.000e+00 5.000e+00\n",
      " 5.000e+00 7.000e+00 3.000e+00 2.000e+00 0.000e+00 1.000e+00 1.000e+00\n",
      " 1.000e+00 1.000e+00 2.000e+00 3.000e+00 1.000e+00]\n"
     ]
    },
    {
     "data": {
      "text/plain": [
       "[<matplotlib.lines.Line2D at 0x1550ad6fa88>]"
      ]
     },
     "execution_count": 65,
     "metadata": {},
     "output_type": "execute_result"
    },
    {
     "data": {
      "image/png": "[encoded data removed]",
      "text/plain": [
       "<Figure size 432x288 with 1 Axes>"
      ]
     },
     "metadata": {
      "needs_background": "light"
     },
     "output_type": "display_data"
    }
   ],
   "source": [
    "# Compute windowed FFT of each axis in normal sample\n",
    "normal_fft = extract_features(normal_sample, max_measurements, raw_scale)\n",
    "print(normal_fft)\n",
    "plt.plot(normal_fft)"
   ]
  },
  {
   "cell_type": "code",
   "execution_count": 66,
   "metadata": {},
   "outputs": [
    {
     "name": "stdout",
     "output_type": "stream",
     "text": [
      "[2.900e+01 1.000e+00 2.000e+00 2.000e+00 1.000e+00 0.000e+00 1.000e+00\n",
      " 0.000e+00 1.000e+00 1.000e+00 2.000e+00 2.000e+00 1.000e+00 0.000e+00\n",
      " 1.000e+00 1.000e+00 1.000e+00 0.000e+00 1.000e+00 1.000e+00 2.000e+00\n",
      " 1.000e+00 1.000e+00 1.000e+00 0.000e+00 0.000e+00 0.000e+00 2.000e+00\n",
      " 2.000e+00 1.000e+00 2.000e+00 3.000e+00 2.010e+02 1.000e+00 3.000e+00\n",
      " 2.000e+00 1.000e+00 2.000e+00 1.000e+00 1.000e+00 1.000e+00 1.000e+00\n",
      " 1.000e+00 6.000e+00 8.000e+00 2.000e+00 0.000e+00 0.000e+00 0.000e+00\n",
      " 0.000e+00 0.000e+00 1.000e+00 0.000e+00 1.000e+00 1.000e+00 0.000e+00\n",
      " 0.000e+00 0.000e+00 1.000e+00 2.000e+00 2.000e+00 0.000e+00 2.000e+00\n",
      " 1.000e+00 1.583e+03 1.600e+01 9.000e+00 2.000e+00 3.000e+00 3.000e+00\n",
      " 3.000e+00 2.000e+00 4.000e+00 5.000e+00 1.000e+00 1.000e+01 1.500e+01\n",
      " 3.000e+00 3.000e+00 4.000e+00 4.000e+00 2.000e+00 3.000e+00 4.000e+00\n",
      " 4.000e+00 4.000e+00 4.000e+00 2.000e+00 2.000e+00 2.000e+00 2.000e+00\n",
      " 2.000e+00 2.000e+00 3.000e+00 0.000e+00 2.000e+00]\n"
     ]
    },
    {
     "data": {
      "text/plain": [
       "[<matplotlib.lines.Line2D at 0x1550aeaaa48>]"
      ]
     },
     "execution_count": 66,
     "metadata": {},
     "output_type": "execute_result"
    },
    {
     "data": {
      "image/png": "[encoded data removed]",
      "text/plain": [
       "<Figure size 432x288 with 1 Axes>"
      ]
     },
     "metadata": {
      "needs_background": "light"
     },
     "output_type": "display_data"
    }
   ],
   "source": [
    "# Compute windowed FFT of each axis in anomaly sample\n",
    "anomaly_fft = extract_features(anomaly_sample, max_measurements, raw_scale)\n",
    "print(anomaly_fft)\n",
    "plt.plot(anomaly_fft)"
   ]
  },
  {
   "cell_type": "code",
   "execution_count": 67,
   "metadata": {},
   "outputs": [],
   "source": [
    "# Copy in Arduino FFTs for normal sample\n",
    "arduino_fft_normal_x = [11, 1, 0, 2, 0, 0, 0, 1, 0, 0, 1, 1, 3, 1, 0, 0, 1, 0, 1, 0, 1, 0, 0, 2, 1, 1, 0, 1, 1, 2, 3, 0]\n",
    "arduino_fft_normal_y = [330, 3, 4, 13, 10, 1, 0, 1, 0, 0, 4, 24, 32, 8, 2, 3, 2, 1, 2, 0, 3, 1, 0, 2, 0, 1, 1, 1, 2, 5, 2, 2]\n",
    "arduino_fft_normal_z = [2493, 30, 9, 5, 0, 4, 3, 4, 2, 3, 7, 29, 42, 19, 0, 0, 1, 1, 0, 0, 5, 6, 1, 2, 2, 1, 2, 3, 3, 0, 1, 4]\n",
    "arduino_fft_anomaly_x = [54, 2, 1, 1, 0, 1, 0, 0, 1, 0, 1, 3, 3, 0, 0, 0, 1, 0, 0, 1, 1, 2, 1, 0, 0, 1, 2, 2, 1, 0, 4, 3]\n",
    "arduino_fft_anomaly_y = [325, 1, 4, 1, 1, 3, 1, 1, 1, 1, 0, 7, 10, 4, 0, 0, 1, 0, 0, 0, 0, 4, 2, 0, 0, 0, 1, 1, 0, 1, 0, 0]\n",
    "arduino_fft_anomaly_z = [2490, 22, 15, 3, 10, 3, 0, 3, 3, 4, 1, 17, 22, 6, 1, 0, 2, 2, 1, 1, 4, 5, 2, 1, 1, 3, 1, 1, 1, 0, 2, 1]"
   ]
  },
  {
   "cell_type": "code",
   "execution_count": 16,
   "metadata": {},
   "outputs": [
    {
     "name": "stdout",
     "output_type": "stream",
     "text": [
      "(96,)\n"
     ]
    },
    {
     "data": {
      "text/plain": [
       "[<matplotlib.lines.Line2D at 0x1550b33b548>]"
      ]
     },
     "execution_count": 16,
     "metadata": {},
     "output_type": "execute_result"
    },
    {
     "data": {
      "image/png": "[encoded data removed]",
      "text/plain": [
       "<Figure size 432x288 with 1 Axes>"
      ]
     },
     "metadata": {
      "needs_background": "light"
     },
     "output_type": "display_data"
    },
    {
     "data": {
      "image/png": "[encoded data removed]",
      "text/plain": [
       "<Figure size 432x288 with 1 Axes>"
      ]
     },
     "metadata": {
      "needs_background": "light"
     },
     "output_type": "display_data"
    }
   ],
   "source": [
    "# Create feature set from Arduino FFTs\n",
    "arduino_fft_normal = np.array([arduino_fft_normal_x, arduino_fft_normal_y, arduino_fft_normal_z]).flatten()\n",
    "arduino_fft_anomaly = np.array([arduino_fft_anomaly_x, arduino_fft_anomaly_y, arduino_fft_anomaly_z]).flatten()\n",
    "print(arduino_fft_normal.shape)\n",
    "plt.plot(arduino_fft_normal)\n",
    "plt.figure()\n",
    "plt.plot(arduino_fft_anomaly)"
   ]
  },
  {
   "cell_type": "code",
   "execution_count": 44,
   "metadata": {},
   "outputs": [
    {
     "name": "stdout",
     "output_type": "stream",
     "text": [
      "[[  11    1    0    2    0    0    0    1    0    0    1    1    3    1\n",
      "     0    0    1    0    1    0    1    0    0    2    1    1    0    1\n",
      "     1    2    3    0  330    3    4   13   10    1    0    1    0    0\n",
      "     4   24   32    8    2    3    2    1    2    0    3    1    0    2\n",
      "     0    1    1    1    2    5    2    2 2493   30    9    5    0    4\n",
      "     3    4    2    3    7   29   42   19    0    0    1    1    0    0\n",
      "     5    6    1    2    2    1    2    3    3    0    1    4]]\n",
      "[[   0.          0.          0.          0.          0.          0.\n",
      "     0.          0.          0.          0.          0.          0.\n",
      "     0.          0.          0.          0.          0.          0.\n",
      "     0.          0.          0.          0.          0.          0.\n",
      "     0.          0.          0.          0.          0.          0.\n",
      "     0.          0.        299.82224     0.          0.          0.\n",
      "     0.          0.          0.          0.          0.          0.\n",
      "     0.         25.196068    0.          0.          0.          0.\n",
      "     0.          0.          0.          0.          0.          0.\n",
      "     0.          0.          0.          0.          0.          0.\n",
      "     0.          0.          0.          0.       2367.9045      0.\n",
      "     0.          0.          0.          0.          0.          0.\n",
      "     0.          0.          0.          0.         39.67028     0.\n",
      "     0.          0.          0.          0.          0.          0.\n",
      "     0.          0.          0.          0.          0.          0.\n",
      "     0.          0.          0.          0.          0.          0.      ]]\n",
      "[214.87947421]\n"
     ]
    },
    {
     "data": {
      "image/png": "[encoded data removed]",
      "text/plain": [
       "<Figure size 432x288 with 1 Axes>"
      ]
     },
     "metadata": {
      "needs_background": "light"
     },
     "output_type": "display_data"
    }
   ],
   "source": [
    "# Test arduino FFT normal in full model NN\n",
    "input_tensor = arduino_fft_normal.reshape(1, -1)\n",
    "print(input_tensor)\n",
    "predictions = model.predict(input_tensor)\n",
    "print(predictions)\n",
    "plt.plot(predictions[0])\n",
    "mse = np.mean(np.power(input_tensor - predictions, 2), axis=1)\n",
    "print(mse)"
   ]
  },
  {
   "cell_type": "code",
   "execution_count": 47,
   "metadata": {},
   "outputs": [
    {
     "name": "stdout",
     "output_type": "stream",
     "text": [
      "[[  54    2    1    1    0    1    0    0    1    0    1    3    3    0\n",
      "     0    0    1    0    0    1    1    2    1    0    0    1    2    2\n",
      "     1    0    4    3  325    1    4    1    1    3    1    1    1    1\n",
      "     0    7   10    4    0    0    1    0    0    0    0    4    2    0\n",
      "     0    0    1    1    0    1    0    0 2490   22   15    3   10    3\n",
      "     0    3    3    4    1   17   22    6    1    0    2    2    1    1\n",
      "     4    5    2    1    1    3    1    1    1    0    2    1]]\n",
      "[[   0.          0.          0.          0.          0.          0.\n",
      "     0.          0.          0.          0.          0.          0.\n",
      "     0.          0.          0.          0.          0.          0.\n",
      "     0.          0.          0.          0.          0.          0.\n",
      "     0.          0.          0.          0.          0.          0.\n",
      "     0.          0.        293.42096     0.          0.          0.\n",
      "     0.          0.          0.          0.          0.          0.\n",
      "     0.         24.671133    0.          0.          0.          0.\n",
      "     0.          0.          0.          0.          0.          0.\n",
      "     0.          0.          0.          0.          0.          0.\n",
      "     0.          0.          0.          0.       2317.178       0.\n",
      "     0.          0.          0.          0.          0.          0.\n",
      "     0.          0.          0.          0.         38.829823    0.\n",
      "     0.          0.          0.          0.          0.          0.\n",
      "     0.          0.          0.          0.          0.          0.\n",
      "     0.          0.          0.          0.          0.          0.      ]]\n",
      "[[2.91600000e+03 4.00000000e+00 1.00000000e+00 1.00000000e+00\n",
      "  0.00000000e+00 1.00000000e+00 0.00000000e+00 0.00000000e+00\n",
      "  1.00000000e+00 0.00000000e+00 1.00000000e+00 9.00000000e+00\n",
      "  9.00000000e+00 0.00000000e+00 0.00000000e+00 0.00000000e+00\n",
      "  1.00000000e+00 0.00000000e+00 0.00000000e+00 1.00000000e+00\n",
      "  1.00000000e+00 4.00000000e+00 1.00000000e+00 0.00000000e+00\n",
      "  0.00000000e+00 1.00000000e+00 4.00000000e+00 4.00000000e+00\n",
      "  1.00000000e+00 0.00000000e+00 1.60000000e+01 9.00000000e+00\n",
      "  9.97235801e+02 1.00000000e+00 1.60000000e+01 1.00000000e+00\n",
      "  1.00000000e+00 9.00000000e+00 1.00000000e+00 1.00000000e+00\n",
      "  1.00000000e+00 1.00000000e+00 0.00000000e+00 3.12268943e+02\n",
      "  1.00000000e+02 1.60000000e+01 0.00000000e+00 0.00000000e+00\n",
      "  1.00000000e+00 0.00000000e+00 0.00000000e+00 0.00000000e+00\n",
      "  0.00000000e+00 1.60000000e+01 4.00000000e+00 0.00000000e+00\n",
      "  0.00000000e+00 0.00000000e+00 1.00000000e+00 1.00000000e+00\n",
      "  0.00000000e+00 1.00000000e+00 0.00000000e+00 0.00000000e+00\n",
      "  2.98674511e+04 4.84000000e+02 2.25000000e+02 9.00000000e+00\n",
      "  1.00000000e+02 9.00000000e+00 0.00000000e+00 9.00000000e+00\n",
      "  9.00000000e+00 1.60000000e+01 1.00000000e+00 2.89000000e+02\n",
      "  2.83242927e+02 3.60000000e+01 1.00000000e+00 0.00000000e+00\n",
      "  4.00000000e+00 4.00000000e+00 1.00000000e+00 1.00000000e+00\n",
      "  1.60000000e+01 2.50000000e+01 4.00000000e+00 1.00000000e+00\n",
      "  1.00000000e+00 9.00000000e+00 1.00000000e+00 1.00000000e+00\n",
      "  1.00000000e+00 0.00000000e+00 4.00000000e+00 1.00000000e+00]]\n",
      "[373.75207063]\n"
     ]
    },
    {
     "data": {
      "image/png": "[encoded data removed]",
      "text/plain": [
       "<Figure size 432x288 with 1 Axes>"
      ]
     },
     "metadata": {
      "needs_background": "light"
     },
     "output_type": "display_data"
    }
   ],
   "source": [
    "# Test arduino FFT anomaly in full model NN\n",
    "input_tensor = arduino_fft_anomaly.reshape(1, -1)\n",
    "print(input_tensor)\n",
    "predictions = model.predict(input_tensor)\n",
    "print(predictions)\n",
    "plt.plot(predictions[0])\n",
    "mse = np.mean(np.power(input_tensor - predictions, 2), axis=1)\n",
    "print(np.power(input_tensor - predictions, 2))\n",
    "print(mse)"
   ]
  },
  {
   "cell_type": "code",
   "execution_count": 50,
   "metadata": {},
   "outputs": [
    {
     "name": "stdout",
     "output_type": "stream",
     "text": [
      "MSE: 1.5208333333333333\n"
     ]
    },
    {
     "data": {
      "text/plain": [
       "Text(0.5, 1.0, 'Predictions')"
      ]
     },
     "execution_count": 50,
     "metadata": {},
     "output_type": "execute_result"
    },
    {
     "data": {
      "image/png": "[encoded data removed]",
      "text/plain": [
       "<Figure size 432x288 with 1 Axes>"
      ]
     },
     "metadata": {
      "needs_background": "light"
     },
     "output_type": "display_data"
    },
    {
     "data": {
      "image/png": "[encoded data removed]",
      "text/plain": [
       "<Figure size 432x288 with 1 Axes>"
      ]
     },
     "metadata": {
      "needs_background": "light"
     },
     "output_type": "display_data"
    }
   ],
   "source": [
    "# Arduino NN output for normal sample\n",
    "arduino_feature_set = [11.00, 1.00, 0.00, 2.00, 0.00, 0.00, 0.00, 1.00, 0.00, 0.00, 1.00, 1.00, 3.00, 1.00, 0.00, 0.00, 1.00, 0.00, 1.00, 0.00, 1.00, 0.00, 0.00, 2.00, 1.00, 1.00, 0.00, 1.00, 1.00, 2.00, 3.00, 0.00, 330.00, 3.00, 4.00, 13.00, 10.00, 1.00, 0.00, 1.00, 0.00, 0.00, 4.00, 24.00, 32.00, 8.00, 2.00, 3.00, 2.00, 1.00, 2.00, 0.00, 3.00, 1.00, 0.00, 2.00, 0.00, 1.00, 1.00, 1.00, 2.00, 5.00, 2.00, 2.00, 2493.00, 30.00, 9.00, 5.00, 0.00, 4.00, 3.00, 4.00, 2.00, 3.00, 7.00, 29.00, 42.00, 19.00, 0.00, 0.00, 1.00, 1.00, 0.00, 0.00, 5.00, 6.00, 1.00, 2.00, 2.00, 1.00, 2.00, 3.00, 3.00, 0.00, 1.00, 4.00]\n",
    "arduino_predictions = [-0.00, -0.00, -0.00, -0.00, -0.00, -0.00, -0.00, -0.00, -0.00, -0.00, -0.00, -0.00, -0.00, -0.00, -0.00, -0.00, -0.00, -0.00, -0.00, -0.00, -0.00, -0.00, -0.00, -0.00, 1.00, 1.00, 0.00, 1.00, 1.00, 2.00, 3.00, 0.00, 330.00, 3.00, 4.00, 13.00, 10.00, 1.00, 0.00, 1.00, 0.00, 0.00, 4.00, 24.00, 32.00, 8.00, 2.00, 3.00, 2.00, 1.00, 2.00, 0.00, 3.00, 1.00, 0.00, 2.00, 0.00, 1.00, 1.00, 1.00, 2.00, 5.00, 2.00, 2.00, 2493.00, 30.00, 9.00, 5.00, 0.00, 4.00, 3.00, 4.00, 2.00, 3.00, 7.00, 29.00, 42.00, 19.00, 0.00, 0.00, 1.00, 1.00, 0.00, 0.00, 5.00, 6.00, 1.00, 2.00, 2.00, 1.00, 2.00, 3.00, 3.00, 0.00, 1.00, 4.00]\n",
    "mse = np.mean(np.power(np.array(arduino_feature_set) - np.array(arduino_predictions), 2))\n",
    "print('MSE:', mse)\n",
    "\n",
    "plt.plot(arduino_feature_set)\n",
    "plt.title('Input feature set')\n",
    "plt.figure()\n",
    "plt.plot(arduino_predictions)\n",
    "plt.title('Predictions')"
   ]
  },
  {
   "cell_type": "code",
   "execution_count": 49,
   "metadata": {},
   "outputs": [
    {
     "name": "stdout",
     "output_type": "stream",
     "text": [
      "MSE: 30.739583333333332\n"
     ]
    },
    {
     "data": {
      "text/plain": [
       "Text(0.5, 1.0, 'Predictions')"
      ]
     },
     "execution_count": 49,
     "metadata": {},
     "output_type": "execute_result"
    },
    {
     "data": {
      "image/png": "[encoded data removed]",
      "text/plain": [
       "<Figure size 432x288 with 1 Axes>"
      ]
     },
     "metadata": {
      "needs_background": "light"
     },
     "output_type": "display_data"
    },
    {
     "data": {
      "image/png": "[encoded data removed]",
      "text/plain": [
       "<Figure size 432x288 with 1 Axes>"
      ]
     },
     "metadata": {
      "needs_background": "light"
     },
     "output_type": "display_data"
    }
   ],
   "source": [
    "# Arduino NN output for anomaly sample\n",
    "arduino_feature_set = [54.00, 2.00, 1.00, 1.00, 0.00, 1.00, 0.00, 0.00, 1.00, 0.00, 1.00, 3.00, 3.00, 0.00, 0.00, 0.00, 1.00, 0.00, 0.00, 1.00, 1.00, 2.00, 1.00, 0.00, 0.00, 1.00, 2.00, 2.00, 1.00, 0.00, 4.00, 3.00, 325.00, 1.00, 4.00, 1.00, 1.00, 3.00, 1.00, 1.00, 1.00, 1.00, 0.00, 7.00, 10.00, 4.00, 0.00, 0.00, 1.00, 0.00, 0.00, 0.00, 0.00, 4.00, 2.00, 0.00, 0.00, 0.00, 1.00, 1.00, 0.00, 1.00, 0.00, 0.00, 2490.00, 22.00, 15.00, 3.00, 10.00, 3.00, 0.00, 3.00, 3.00, 4.00, 1.00, 17.00, 22.00, 6.00, 1.00, 0.00, 2.00, 2.00, 1.00, 1.00, 4.00, 5.00, 2.00, 1.00, 1.00, 3.00, 1.00, 1.00, 1.00, 0.00, 2.00, 1.00] \n",
    "arduino_predictions = [0.00, 0.00, 0.00, 0.00, 0.00, 0.00, 0.00, 0.00, 0.00, 0.00, 0.00, 0.00, 0.00, 0.00, 0.00, 0.00, 0.00, 0.00, 0.00, 0.00, 0.00, 0.00, 0.00, 0.00, 0.00, 1.00, 2.00, 2.00, 1.00, 0.00, 4.00, 3.00, 325.00, 1.00, 4.00, 1.00, 1.00, 3.00, 1.00, 1.00, 1.00, 1.00, 0.00, 7.00, 10.00, 4.00, 0.00, 0.00, 1.00, 0.00, 0.00, 0.00, 0.00, 4.00, 2.00, 0.00, 0.00, 0.00, 1.00, 1.00, 0.00, 1.00, 0.00, 0.00, 2490.00, 22.00, 15.00, 3.00, 10.00, 3.00, 0.00, 3.00, 3.00, 4.00, 1.00, 17.00, 22.00, 6.00, 1.00, 0.00, 2.00, 2.00, 1.00, 1.00, 4.00, 5.00, 2.00, 1.00, 1.00, 3.00, 1.00, 1.00, 1.00, 0.00, 2.00, 1.00] \n",
    "mse = np.mean(np.power(np.array(arduino_feature_set) - np.array(arduino_predictions), 2))\n",
    "print('MSE:', mse)\n",
    "\n",
    "plt.plot(arduino_feature_set)\n",
    "plt.title('Input feature set')\n",
    "plt.figure()\n",
    "plt.plot(arduino_predictions)\n",
    "plt.title('Predictions')"
   ]
  },
  {
   "cell_type": "code",
   "execution_count": null,
   "metadata": {},
   "outputs": [],
   "source": []
  }
 ],
 "metadata": {
  "kernelspec": {
   "display_name": "Python 3",
   "language": "python",
   "name": "python3"
  },
  "language_info": {
   "codemirror_mode": {
    "name": "ipython",
    "version": 3
   },
   "file_extension": ".py",
   "mimetype": "text/x-python",
   "name": "python",
   "nbconvert_exporter": "python",
   "pygments_lexer": "ipython3",
   "version": "3.7.6"
  }
 },
 "nbformat": 4,
 "nbformat_minor": 4
}
