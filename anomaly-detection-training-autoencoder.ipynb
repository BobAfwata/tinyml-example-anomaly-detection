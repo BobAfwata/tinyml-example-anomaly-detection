{
 "cells": [
  {
   "cell_type": "code",
   "execution_count": 3,
   "metadata": {},
   "outputs": [],
   "source": [
    "from os import listdir\n",
    "from os.path import join\n",
    "import numpy as np\n",
    "import pandas as pd\n",
    "import matplotlib.pyplot as plt\n",
    "import random\n",
    "from scipy import stats\n",
    "import tensorflow as tf\n",
    "from tensorflow.keras import layers, models, optimizers, regularizers\n",
    "from sklearn.metrics import confusion_matrix\n",
    "import seaborn as sn"
   ]
  },
  {
   "cell_type": "code",
   "execution_count": 4,
   "metadata": {},
   "outputs": [
    {
     "name": "stdout",
     "output_type": "stream",
     "text": [
      "Python 3.7.6\n",
      "Numpy 1.18.1\n",
      "TensorFlow 2.1.0\n",
      "Keras 2.2.4-tf\n"
     ]
    }
   ],
   "source": [
    "# Print versions\n",
    "!python --version\n",
    "print('Numpy ' + np.__version__)\n",
    "print('TensorFlow ' + tf.__version__)\n",
    "print('Keras ' + tf.keras.__version__)"
   ]
  },
  {
   "cell_type": "code",
   "execution_count": 43,
   "metadata": {},
   "outputs": [
    {
     "name": "stdout",
     "output_type": "stream",
     "text": [
      "Max measurements per file: 128\n",
      "Downsample factor: 2\n",
      "Window length: 64\n"
     ]
    }
   ],
   "source": [
    "# Settings\n",
    "dataset_path = 'ceiling-fan-dataset-deploy' #'ceiling-fan-dataset'  # Directory where raw accelerometer data is stored\n",
    "normal_op_list = ['fan_0_low'] # ['fan_0_low_0_weight']\n",
    "anomaly_op_list = [] #['fan_0_med_0_weight', 'fan_0_high_0_weight',\n",
    "                  #'fan_0_low_1_weight', 'fan_0_med_1_weight', 'fan_0_high_1_weight']\n",
    "val_ratio = 0.2             # Percentage of samples that should be held for validation set\n",
    "test_ratio = 0.2            # Percentage of samples that should be held for test set\n",
    "raw_scale = 1               # Multiply raw values to fit into integers\n",
    "sensor_sample_rate = 200    # Hz\n",
    "desired_sample_rate = 50    # Hz\n",
    "sample_time = 0.64           # Time (sec) length of each sample\n",
    "samples_per_file = 128      # Expected number of measurements in each file (truncate to this)\n",
    "max_measurements = int(sample_time * sensor_sample_rate)\n",
    "downsample_factor = int(samples_per_file / desired_sample_rate)\n",
    "win_len = int(max_measurements / downsample_factor)\n",
    "\n",
    "keras_model_name = 'models\\\\fan_low_model-deploy'           # Will be given .h5 suffix\n",
    "sample_file_name = 'test-samples\\\\normal_anomaly_samples'  # Will be given .npz suffix\n",
    "rep_dataset_name = 'test-samples\\\\normal_anomaly_test_set' # Will be given .npz suffix\n",
    "\n",
    "print('Max measurements per file:', max_measurements)\n",
    "print('Downsample factor:', downsample_factor)\n",
    "print('Window length:', win_len)"
   ]
  },
  {
   "cell_type": "code",
   "execution_count": 9,
   "metadata": {},
   "outputs": [],
   "source": [
    "# Create list of filenames\n",
    "def createFilenameList(op_list):\n",
    "    \n",
    "    # Extract paths and filenames in each directory\n",
    "    op_filenames = []\n",
    "    num_samples = 0\n",
    "    for index, target in enumerate(op_list):\n",
    "        samples_in_dir = listdir(join(dataset_path, target))\n",
    "        samples_in_dir = [join(dataset_path, target, sample) for sample in samples_in_dir]\n",
    "        op_filenames.append(samples_in_dir)\n",
    "    \n",
    "    # Flatten list\n",
    "    return [item for sublist in op_filenames for item in sublist]"
   ]
  },
  {
   "cell_type": "code",
   "execution_count": 10,
   "metadata": {},
   "outputs": [
    {
     "name": "stdout",
     "output_type": "stream",
     "text": [
      "Number of normal samples: 285\n",
      "Number of anomaly samples: 0\n"
     ]
    }
   ],
   "source": [
    "# Create normal and anomaly filename lists\n",
    "normal_op_filenames = createFilenameList(normal_op_list)\n",
    "anomaly_op_filenames = createFilenameList(anomaly_op_list)\n",
    "print('Number of normal samples:', len(normal_op_filenames))\n",
    "print('Number of anomaly samples:', len(anomaly_op_filenames))"
   ]
  },
  {
   "cell_type": "code",
   "execution_count": 11,
   "metadata": {},
   "outputs": [],
   "source": [
    "# Shuffle lists\n",
    "random.shuffle(normal_op_filenames)\n",
    "random.shuffle(anomaly_op_filenames)"
   ]
  },
  {
   "cell_type": "code",
   "execution_count": 12,
   "metadata": {},
   "outputs": [],
   "source": [
    "# Calculate validation and test set sizes\n",
    "val_set_size = int(len(normal_op_filenames) * val_ratio)\n",
    "test_set_size = int(len(normal_op_filenames) * test_ratio)"
   ]
  },
  {
   "cell_type": "code",
   "execution_count": 13,
   "metadata": {},
   "outputs": [
    {
     "name": "stdout",
     "output_type": "stream",
     "text": [
      "Number of training samples: 171\n",
      "Number of validation samples: 57\n",
      "Number of test samples: 57\n"
     ]
    }
   ],
   "source": [
    "# Break dataset apart into train, validation, and test sets\n",
    "num_samples = len(normal_op_filenames)\n",
    "filenames_val = normal_op_filenames[:val_set_size]\n",
    "filenames_test = normal_op_filenames[val_set_size:(val_set_size + test_set_size)]\n",
    "filenames_train = normal_op_filenames[(val_set_size + test_set_size):]\n",
    "\n",
    "# Print out number of samples in each set\n",
    "print('Number of training samples:', len(filenames_train))\n",
    "print('Number of validation samples:', len(filenames_val))\n",
    "print('Number of test samples:', len(filenames_test))\n",
    "\n",
    "# Check that our splits add up correctly\n",
    "assert(len(filenames_train) + len(filenames_val) + len(filenames_test)) == num_samples"
   ]
  },
  {
   "cell_type": "code",
   "execution_count": 14,
   "metadata": {},
   "outputs": [],
   "source": [
    "# Function: extract specified features (variances, MAD) from sample\n",
    "def extract_features(sample, max_measurements=0, scale=1):\n",
    "    \n",
    "    features = []\n",
    "    \n",
    "    # Truncate sample\n",
    "    if max_measurements == 0:\n",
    "        max_measurements = sample.shape[0]\n",
    "    sample = sample[0:max_measurements]\n",
    "    \n",
    "    # Scale sample\n",
    "    sample = scale * sample\n",
    "    \n",
    "        \n",
    "#     # Remove DC component\n",
    "#     sample = sample - np.mean(sample, axis=0)\n",
    "    \n",
    "#     # Truncate sample\n",
    "#     sample = sample[0:max_measurements]\n",
    "    \n",
    "#     # Variance\n",
    "#     features.append(np.var(sample, axis=0))\n",
    "    \n",
    "#     # Kurtosis\n",
    "#     features.append(stats.kurtosis(sample))\n",
    "    \n",
    "#     # Skew\n",
    "#     features.append(stats.skew(sample))\n",
    "    \n",
    "    # Median absolute deviation (MAD)\n",
    "    features.append(stats.median_absolute_deviation(sample))\n",
    "    \n",
    "#     # Correlation\n",
    "#     cov = np.corrcoef(sample.T)\n",
    "#     features.append(np.array([cov[0,1], cov[0,2], cov[1,2]]))\n",
    "    \n",
    "    # Compute a windowed FFT of each axis in the sample (leave off DC)\n",
    "#     sample = sample[::downsample_factor, :]  # Downsample\n",
    "#     sample = np.floor(sample)                # Round down to int\n",
    "#     hann_window = np.hanning(sample.shape[0])\n",
    "#     for i, axis in enumerate(sample.T):\n",
    "#         fft = abs(np.fft.rfft(axis * hann_window))\n",
    "#         features.append(fft[1:])  # Leave off DC\n",
    "    \n",
    "    return np.array(features).flatten()"
   ]
  },
  {
   "cell_type": "code",
   "execution_count": 15,
   "metadata": {},
   "outputs": [
    {
     "name": "stdout",
     "output_type": "stream",
     "text": [
      "(3,)\n",
      "[0.02823315 0.00868655 0.01882161]\n"
     ]
    },
    {
     "data": {
      "text/plain": [
       "[<matplotlib.lines.Line2D at 0x230d1706b08>]"
      ]
     },
     "execution_count": 15,
     "metadata": {},
     "output_type": "execute_result"
    },
    {
     "data": {
      "image/png": "[encoded data removed]",
      "text/plain": [
       "<Figure size 432x288 with 1 Axes>"
      ]
     },
     "metadata": {
      "needs_background": "light"
     },
     "output_type": "display_data"
    }
   ],
   "source": [
    "# Test with 1 sample\n",
    "sample = np.genfromtxt(filenames_test[0], delimiter=',')\n",
    "features = extract_features(sample, max_measurements, scale=raw_scale)\n",
    "print(features.shape)\n",
    "print(features)\n",
    "plt.plot(features)"
   ]
  },
  {
   "cell_type": "code",
   "execution_count": 16,
   "metadata": {},
   "outputs": [],
   "source": [
    "# Function: loop through filenames, creating feature sets\n",
    "def create_feature_set(filenames):\n",
    "    x_out = []\n",
    "    for file in filenames:\n",
    "        sample = np.genfromtxt(file, delimiter=',')\n",
    "        features = extract_features(sample, max_measurements, raw_scale)\n",
    "        x_out.append(features)\n",
    "        \n",
    "    return np.array(x_out)"
   ]
  },
  {
   "cell_type": "code",
   "execution_count": 17,
   "metadata": {},
   "outputs": [
    {
     "name": "stdout",
     "output_type": "stream",
     "text": [
      "Extracted features from training set. Shape: (171, 3)\n",
      "Extracted features from validation set. Shape: (57, 3)\n",
      "Extracted features from test set. Shape: (57, 3)\n"
     ]
    }
   ],
   "source": [
    "# Create training, validation, and test sets\n",
    "x_train = create_feature_set(filenames_train)\n",
    "print('Extracted features from training set. Shape:', x_train.shape)\n",
    "x_val = create_feature_set(filenames_val)\n",
    "print('Extracted features from validation set. Shape:', x_val.shape)\n",
    "x_test = create_feature_set(filenames_test)\n",
    "print('Extracted features from test set. Shape:', x_test.shape)"
   ]
  },
  {
   "cell_type": "code",
   "execution_count": 18,
   "metadata": {},
   "outputs": [
    {
     "name": "stdout",
     "output_type": "stream",
     "text": [
      "(3,)\n"
     ]
    }
   ],
   "source": [
    "# Get input shape for 1 sample\n",
    "sample_shape = x_train.shape[1:]\n",
    "print(sample_shape)"
   ]
  },
  {
   "cell_type": "code",
   "execution_count": 37,
   "metadata": {},
   "outputs": [
    {
     "name": "stdout",
     "output_type": "stream",
     "text": [
      "Model: \"sequential_6\"\n",
      "_________________________________________________________________\n",
      "Layer (type)                 Output Shape              Param #   \n",
      "=================================================================\n",
      "dense_12 (Dense)             (None, 2)                 8         \n",
      "_________________________________________________________________\n",
      "dropout_6 (Dropout)          (None, 2)                 0         \n",
      "_________________________________________________________________\n",
      "dense_13 (Dense)             (None, 3)                 9         \n",
      "=================================================================\n",
      "Total params: 17\n",
      "Trainable params: 17\n",
      "Non-trainable params: 0\n",
      "_________________________________________________________________\n"
     ]
    }
   ],
   "source": [
    "# Build model\n",
    "# Based on: https://medium.com/@curiousily/credit-card-fraud-detection-using-autoencoders-in-keras-tensorflow-for-hackers-part-vii-20e0c85301bd\n",
    "encoding_dim = 2       # Number of nodes in first layer\n",
    "model = models.Sequential([\n",
    "    layers.InputLayer(input_shape=sample_shape),\n",
    "    layers.Dense(encoding_dim, activation='relu'),\n",
    "    layers.Dropout(0.2),\n",
    "    layers.Dense(*sample_shape, activation='relu')\n",
    "])\n",
    "\n",
    "# Display model\n",
    "model.summary()"
   ]
  },
  {
   "cell_type": "code",
   "execution_count": 38,
   "metadata": {},
   "outputs": [],
   "source": [
    "# Add training parameters to model\n",
    "model.compile(optimizer='adam',\n",
    "             loss='mse')"
   ]
  },
  {
   "cell_type": "code",
   "execution_count": 39,
   "metadata": {},
   "outputs": [
    {
     "name": "stdout",
     "output_type": "stream",
     "text": [
      "Train on 171 samples, validate on 57 samples\n",
      "Epoch 1/50\n",
      "171/171 [==============================] - 0s 2ms/sample - loss: 3.0195e-04 - val_loss: 2.4809e-04\n",
      "Epoch 2/50\n",
      "171/171 [==============================] - 0s 64us/sample - loss: 2.6458e-04 - val_loss: 2.0655e-04\n",
      "Epoch 3/50\n",
      "171/171 [==============================] - 0s 59us/sample - loss: 2.1585e-04 - val_loss: 1.6658e-04\n",
      "Epoch 4/50\n",
      "171/171 [==============================] - 0s 64us/sample - loss: 1.8497e-04 - val_loss: 1.3323e-04\n",
      "Epoch 5/50\n",
      "171/171 [==============================] - 0s 58us/sample - loss: 1.4686e-04 - val_loss: 1.0704e-04\n",
      "Epoch 6/50\n",
      "171/171 [==============================] - 0s 76us/sample - loss: 1.2315e-04 - val_loss: 8.4562e-05\n",
      "Epoch 7/50\n",
      "171/171 [==============================] - 0s 58us/sample - loss: 1.0236e-04 - val_loss: 6.5661e-05\n",
      "Epoch 8/50\n",
      "171/171 [==============================] - 0s 82us/sample - loss: 8.2488e-05 - val_loss: 5.0250e-05\n",
      "Epoch 9/50\n",
      "171/171 [==============================] - 0s 181us/sample - loss: 6.1332e-05 - val_loss: 3.8262e-05\n",
      "Epoch 10/50\n",
      "171/171 [==============================] - 0s 64us/sample - loss: 5.3154e-05 - val_loss: 2.8457e-05\n",
      "Epoch 11/50\n",
      "171/171 [==============================] - 0s 94us/sample - loss: 4.3528e-05 - val_loss: 1.9867e-05\n",
      "Epoch 12/50\n",
      "171/171 [==============================] - 0s 70us/sample - loss: 2.8285e-05 - val_loss: 1.3093e-05\n",
      "Epoch 13/50\n",
      "171/171 [==============================] - 0s 64us/sample - loss: 2.1661e-05 - val_loss: 8.3016e-06\n",
      "Epoch 14/50\n",
      "171/171 [==============================] - 0s 53us/sample - loss: 1.6631e-05 - val_loss: 5.1282e-06\n",
      "Epoch 15/50\n",
      "171/171 [==============================] - 0s 58us/sample - loss: 1.0953e-05 - val_loss: 3.1943e-06\n",
      "Epoch 16/50\n",
      "171/171 [==============================] - 0s 58us/sample - loss: 9.2289e-06 - val_loss: 1.9771e-06\n",
      "Epoch 17/50\n",
      "171/171 [==============================] - 0s 58us/sample - loss: 4.3227e-06 - val_loss: 1.4556e-06\n",
      "Epoch 18/50\n",
      "171/171 [==============================] - 0s 58us/sample - loss: 4.6171e-06 - val_loss: 1.4500e-06\n",
      "Epoch 19/50\n",
      "171/171 [==============================] - 0s 58us/sample - loss: 3.6292e-06 - val_loss: 1.6115e-06\n",
      "Epoch 20/50\n",
      "171/171 [==============================] - 0s 64us/sample - loss: 3.2239e-06 - val_loss: 1.6869e-06\n",
      "Epoch 21/50\n",
      "171/171 [==============================] - 0s 58us/sample - loss: 3.0433e-06 - val_loss: 1.6592e-06\n",
      "Epoch 22/50\n",
      "171/171 [==============================] - 0s 58us/sample - loss: 2.4760e-06 - val_loss: 1.6561e-06\n",
      "Epoch 23/50\n",
      "171/171 [==============================] - 0s 70us/sample - loss: 2.2828e-06 - val_loss: 1.7438e-06\n",
      "Epoch 24/50\n",
      "171/171 [==============================] - 0s 53us/sample - loss: 2.1226e-06 - val_loss: 1.8265e-06\n",
      "Epoch 25/50\n",
      "171/171 [==============================] - 0s 64us/sample - loss: 2.0385e-06 - val_loss: 1.8406e-06\n",
      "Epoch 26/50\n",
      "171/171 [==============================] - 0s 64us/sample - loss: 1.9134e-06 - val_loss: 1.7579e-06\n",
      "Epoch 27/50\n",
      "171/171 [==============================] - 0s 64us/sample - loss: 1.7599e-06 - val_loss: 1.6442e-06\n",
      "Epoch 28/50\n",
      "171/171 [==============================] - 0s 58us/sample - loss: 1.6743e-06 - val_loss: 1.5638e-06\n",
      "Epoch 29/50\n",
      "171/171 [==============================] - 0s 64us/sample - loss: 1.6138e-06 - val_loss: 1.5027e-06\n",
      "Epoch 30/50\n",
      "171/171 [==============================] - 0s 64us/sample - loss: 1.5520e-06 - val_loss: 1.4249e-06\n",
      "Epoch 31/50\n",
      "171/171 [==============================] - 0s 58us/sample - loss: 1.4570e-06 - val_loss: 1.3623e-06\n",
      "Epoch 32/50\n",
      "171/171 [==============================] - 0s 64us/sample - loss: 1.3920e-06 - val_loss: 1.3216e-06\n",
      "Epoch 33/50\n",
      "171/171 [==============================] - 0s 53us/sample - loss: 1.3384e-06 - val_loss: 1.2570e-06\n",
      "Epoch 34/50\n",
      "171/171 [==============================] - 0s 53us/sample - loss: 1.2786e-06 - val_loss: 1.1850e-06\n",
      "Epoch 35/50\n",
      "171/171 [==============================] - 0s 59us/sample - loss: 1.2395e-06 - val_loss: 1.1295e-06\n",
      "Epoch 36/50\n",
      "171/171 [==============================] - ETA: 0s - loss: 1.3222e-0 - 0s 58us/sample - loss: 1.2165e-06 - val_loss: 1.0970e-06\n",
      "Epoch 37/50\n",
      "171/171 [==============================] - 0s 64us/sample - loss: 1.2063e-06 - val_loss: 1.0807e-06\n",
      "Epoch 38/50\n",
      "171/171 [==============================] - 0s 64us/sample - loss: 1.2007e-06 - val_loss: 1.0806e-06\n",
      "Epoch 39/50\n",
      "171/171 [==============================] - 0s 58us/sample - loss: 1.1984e-06 - val_loss: 1.0895e-06\n",
      "Epoch 40/50\n",
      "171/171 [==============================] - 0s 64us/sample - loss: 1.1999e-06 - val_loss: 1.0895e-06\n",
      "Epoch 41/50\n",
      "171/171 [==============================] - 0s 70us/sample - loss: 1.2053e-06 - val_loss: 1.0827e-06\n",
      "Epoch 42/50\n",
      "171/171 [==============================] - 0s 53us/sample - loss: 1.2084e-06 - val_loss: 1.0748e-06\n",
      "Epoch 43/50\n",
      "171/171 [==============================] - 0s 58us/sample - loss: 1.2104e-06 - val_loss: 1.0708e-06\n",
      "Epoch 44/50\n",
      "171/171 [==============================] - 0s 53us/sample - loss: 1.2130e-06 - val_loss: 1.0733e-06\n",
      "Epoch 45/50\n",
      "171/171 [==============================] - 0s 58us/sample - loss: 1.2122e-06 - val_loss: 1.0788e-06\n",
      "Epoch 46/50\n",
      "171/171 [==============================] - 0s 58us/sample - loss: 1.2109e-06 - val_loss: 1.0858e-06\n",
      "Epoch 47/50\n",
      "171/171 [==============================] - 0s 58us/sample - loss: 1.2079e-06 - val_loss: 1.0847e-06\n",
      "Epoch 48/50\n",
      "171/171 [==============================] - 0s 53us/sample - loss: 1.2072e-06 - val_loss: 1.0787e-06\n",
      "Epoch 49/50\n",
      "171/171 [==============================] - 0s 58us/sample - loss: 1.2027e-06 - val_loss: 1.0786e-06\n",
      "Epoch 50/50\n",
      "171/171 [==============================] - 0s 58us/sample - loss: 1.2004e-06 - val_loss: 1.0780e-06\n"
     ]
    }
   ],
   "source": [
    "# Train model (note Y labels are same as inputs, X)\n",
    "history = model.fit(x_train,\n",
    "                   x_train,\n",
    "                   epochs=50,\n",
    "                   batch_size=100,\n",
    "                   validation_data=(x_val, x_val),\n",
    "                   verbose=1)"
   ]
  },
  {
   "cell_type": "code",
   "execution_count": 40,
   "metadata": {},
   "outputs": [
    {
     "data": {
      "image/png": "[encoded data removed]",
      "text/plain": [
       "<Figure size 432x288 with 1 Axes>"
      ]
     },
     "metadata": {
      "needs_background": "light"
     },
     "output_type": "display_data"
    }
   ],
   "source": [
    "# Plot results\n",
    "loss = history.history['loss']\n",
    "val_loss = history.history['val_loss']\n",
    "\n",
    "epochs = range(1, len(loss) + 1)\n",
    "\n",
    "plt.figure()\n",
    "\n",
    "plt.plot(epochs, loss, 'bo', label='Training loss')\n",
    "plt.plot(epochs, val_loss, 'b', label='Validation loss')\n",
    "plt.title('Training and validation loss')\n",
    "plt.legend()\n",
    "\n",
    "plt.show()"
   ]
  },
  {
   "cell_type": "code",
   "execution_count": 41,
   "metadata": {},
   "outputs": [
    {
     "name": "stdout",
     "output_type": "stream",
     "text": [
      "Average MSE for normal validation set: 1.0779621778285969e-06\n",
      "Standard deviation of MSE for normal validation set: 9.304499227210195e-07\n",
      "Recommended threshold (3x std dev + avg): 3.869311945991655e-06\n"
     ]
    },
    {
     "data": {
      "text/plain": [
       "(array([9., 9., 8., 8., 4., 2., 2., 4., 3., 2., 2., 0., 2., 1., 0., 0., 0.,\n",
       "        0., 0., 1.]),\n",
       " array([1.64252808e-08, 2.45988484e-07, 4.75551687e-07, 7.05114890e-07,\n",
       "        9.34678093e-07, 1.16424130e-06, 1.39380450e-06, 1.62336770e-06,\n",
       "        1.85293091e-06, 2.08249411e-06, 2.31205731e-06, 2.54162051e-06,\n",
       "        2.77118372e-06, 3.00074692e-06, 3.23031012e-06, 3.45987333e-06,\n",
       "        3.68943653e-06, 3.91899973e-06, 4.14856294e-06, 4.37812614e-06,\n",
       "        4.60768934e-06]),\n",
       " <a list of 20 Patch objects>)"
      ]
     },
     "execution_count": 41,
     "metadata": {},
     "output_type": "execute_result"
    },
    {
     "data": {
      "image/png": "[encoded data removed]",
      "text/plain": [
       "<Figure size 432x288 with 1 Axes>"
      ]
     },
     "metadata": {
      "needs_background": "light"
     },
     "output_type": "display_data"
    }
   ],
   "source": [
    "# Calculate MSE from validation set\n",
    "predictions = model.predict(x_val)\n",
    "normal_mse = np.mean(np.power(x_val - predictions, 2), axis=1)\n",
    "print('Average MSE for normal validation set:', np.average(normal_mse))\n",
    "print('Standard deviation of MSE for normal validation set:', np.std(normal_mse))\n",
    "print('Recommended threshold (3x std dev + avg):', (3*np.std(normal_mse)) + np.average(normal_mse))\n",
    "fig, ax = plt.subplots(1,1)\n",
    "ax.hist(normal_mse, bins=20, label='normal', color='blue', alpha=0.7)"
   ]
  },
  {
   "cell_type": "code",
   "execution_count": 39,
   "metadata": {},
   "outputs": [
    {
     "name": "stdout",
     "output_type": "stream",
     "text": [
      "Extracted features from anomaly set. Shape: (117, 3)\n"
     ]
    }
   ],
   "source": [
    "# Extract features from anomaly test set (truncate to length of X test set)\n",
    "anomaly_ops_trunc = anomaly_op_filenames[0:len(normal_mse)]\n",
    "anomaly_features = create_feature_set(anomaly_ops_trunc)\n",
    "print('Extracted features from anomaly set. Shape:', anomaly_features.shape)"
   ]
  },
  {
   "cell_type": "code",
   "execution_count": 40,
   "metadata": {},
   "outputs": [
    {
     "name": "stdout",
     "output_type": "stream",
     "text": [
      "Average MSE for for anomaly test set: 0.00039895005895927227\n"
     ]
    }
   ],
   "source": [
    "# Calculate MSE from anomaly set\n",
    "predictions = model.predict(anomaly_features)\n",
    "anomaly_mse = np.mean(np.power(anomaly_features - predictions, 2), axis=1)\n",
    "print('Average MSE for for anomaly test set:', np.average(anomaly_mse))"
   ]
  },
  {
   "cell_type": "code",
   "execution_count": 41,
   "metadata": {},
   "outputs": [
    {
     "data": {
      "text/plain": [
       "(array([46., 20.,  3.,  0.,  0.,  0.,  0.,  0.,  0.,  3., 11., 11., 12.,\n",
       "         3.,  3.,  1.,  0.,  2.,  1.,  1.]),\n",
       " array([6.66334107e-06, 7.79948832e-05, 1.49326425e-04, 2.20657968e-04,\n",
       "        2.91989510e-04, 3.63321052e-04, 4.34652594e-04, 5.05984136e-04,\n",
       "        5.77315678e-04, 6.48647221e-04, 7.19978763e-04, 7.91310305e-04,\n",
       "        8.62641847e-04, 9.33973389e-04, 1.00530493e-03, 1.07663647e-03,\n",
       "        1.14796802e-03, 1.21929956e-03, 1.29063110e-03, 1.36196264e-03,\n",
       "        1.43329418e-03]),\n",
       " <a list of 20 Patch objects>)"
      ]
     },
     "execution_count": 41,
     "metadata": {},
     "output_type": "execute_result"
    },
    {
     "data": {
      "image/png": "[encoded data removed]",
      "text/plain": [
       "<Figure size 432x288 with 1 Axes>"
      ]
     },
     "metadata": {
      "needs_background": "light"
     },
     "output_type": "display_data"
    }
   ],
   "source": [
    "# Plot histograms of normal validation vs. anomaly sets (MSEs)\n",
    "fig, ax = plt.subplots(1,1)\n",
    "plt.xscale(\"log\")\n",
    "ax.hist(normal_mse, bins=20, label='normal', color='blue', alpha=0.7)\n",
    "ax.hist(anomaly_mse, bins=20, label='anomaly', color='red', alpha=0.7)"
   ]
  },
  {
   "cell_type": "code",
   "execution_count": 44,
   "metadata": {},
   "outputs": [
    {
     "name": "stdout",
     "output_type": "stream",
     "text": [
      "Average MSE for normal test set: 4.1872924646061573e-07\n"
     ]
    }
   ],
   "source": [
    "# Look at separation using test set\n",
    "predictions = model.predict(x_test)\n",
    "normal_mse = np.mean(np.power(x_test - predictions, 2), axis=1)\n",
    "print('Average MSE for normal test set:', np.average(normal_mse))"
   ]
  },
  {
   "cell_type": "code",
   "execution_count": 45,
   "metadata": {},
   "outputs": [
    {
     "data": {
      "text/plain": [
       "(array([46., 20.,  3.,  0.,  0.,  0.,  0.,  0.,  0.,  3., 11., 11., 12.,\n",
       "         3.,  3.,  1.,  0.,  2.,  1.,  1.]),\n",
       " array([6.66334107e-06, 7.79948832e-05, 1.49326425e-04, 2.20657968e-04,\n",
       "        2.91989510e-04, 3.63321052e-04, 4.34652594e-04, 5.05984136e-04,\n",
       "        5.77315678e-04, 6.48647221e-04, 7.19978763e-04, 7.91310305e-04,\n",
       "        8.62641847e-04, 9.33973389e-04, 1.00530493e-03, 1.07663647e-03,\n",
       "        1.14796802e-03, 1.21929956e-03, 1.29063110e-03, 1.36196264e-03,\n",
       "        1.43329418e-03]),\n",
       " <a list of 20 Patch objects>)"
      ]
     },
     "execution_count": 45,
     "metadata": {},
     "output_type": "execute_result"
    },
    {
     "data": {
      "image/png": "[encoded data removed]",
      "text/plain": [
       "<Figure size 432x288 with 1 Axes>"
      ]
     },
     "metadata": {
      "needs_background": "light"
     },
     "output_type": "display_data"
    }
   ],
   "source": [
    "# Plot histograms of normal test vs. anomaly sets (MSEs)\n",
    "fig, ax = plt.subplots(1,1)\n",
    "plt.xscale(\"log\")\n",
    "ax.hist(normal_mse, bins=20, label='normal', color='blue', alpha=0.7)\n",
    "ax.hist(anomaly_mse, bins=20, label='anomaly', color='red', alpha=0.7)"
   ]
  },
  {
   "cell_type": "code",
   "execution_count": 45,
   "metadata": {},
   "outputs": [],
   "source": [
    "# If we're happy with the performance, save the model\n",
    "model.save(keras_model_name + '.h5')"
   ]
  },
  {
   "cell_type": "code",
   "execution_count": 47,
   "metadata": {},
   "outputs": [],
   "source": [
    "# Save a normal and anomaly sample for trying out on the MCU\n",
    "normal_sample = np.genfromtxt(filenames_test[0], delimiter=',')\n",
    "anomaly_sample = np.genfromtxt(anomaly_op_filenames[0], delimiter=',')\n",
    "np.savez(sample_file_name + '.npz', normal_sample=normal_sample, anomaly_sample=anomaly_sample)"
   ]
  },
  {
   "cell_type": "code",
   "execution_count": 44,
   "metadata": {},
   "outputs": [
    {
     "ename": "FileNotFoundError",
     "evalue": "[Errno 2] No such file or directory: 'test-samples\\\\normal_anomaly_test_set.npz'",
     "output_type": "error",
     "traceback": [
      "\u001b[1;31m---------------------------------------------------------------------------\u001b[0m",
      "\u001b[1;31mFileNotFoundError\u001b[0m                         Traceback (most recent call last)",
      "\u001b[1;32m<ipython-input-44-cbcd3e24144e>\u001b[0m in \u001b[0;36m<module>\u001b[1;34m\u001b[0m\n\u001b[0;32m      1\u001b[0m \u001b[1;31m# Save the test dataset for use as a representative dataset\u001b[0m\u001b[1;33m\u001b[0m\u001b[1;33m\u001b[0m\u001b[1;33m\u001b[0m\u001b[0m\n\u001b[1;32m----> 2\u001b[1;33m \u001b[0mnp\u001b[0m\u001b[1;33m.\u001b[0m\u001b[0msavez\u001b[0m\u001b[1;33m(\u001b[0m\u001b[0mrep_dataset_name\u001b[0m \u001b[1;33m+\u001b[0m \u001b[1;34m'.npz'\u001b[0m\u001b[1;33m,\u001b[0m \u001b[0mx_test\u001b[0m\u001b[1;33m=\u001b[0m\u001b[0mx_test\u001b[0m\u001b[1;33m)\u001b[0m\u001b[1;33m\u001b[0m\u001b[1;33m\u001b[0m\u001b[0m\n\u001b[0m",
      "\u001b[1;32m<__array_function__ internals>\u001b[0m in \u001b[0;36msavez\u001b[1;34m(*args, **kwargs)\u001b[0m\n",
      "\u001b[1;32m~\\Anaconda3\\envs\\tensorflow-2.1\\lib\\site-packages\\numpy\\lib\\npyio.py\u001b[0m in \u001b[0;36msavez\u001b[1;34m(file, *args, **kwds)\u001b[0m\n\u001b[0;32m    643\u001b[0m     \u001b[0marray\u001b[0m\u001b[1;33m(\u001b[0m\u001b[1;33m[\u001b[0m\u001b[1;36m0\u001b[0m\u001b[1;33m,\u001b[0m \u001b[1;36m1\u001b[0m\u001b[1;33m,\u001b[0m \u001b[1;36m2\u001b[0m\u001b[1;33m,\u001b[0m \u001b[1;36m3\u001b[0m\u001b[1;33m,\u001b[0m \u001b[1;36m4\u001b[0m\u001b[1;33m,\u001b[0m \u001b[1;36m5\u001b[0m\u001b[1;33m,\u001b[0m \u001b[1;36m6\u001b[0m\u001b[1;33m,\u001b[0m \u001b[1;36m7\u001b[0m\u001b[1;33m,\u001b[0m \u001b[1;36m8\u001b[0m\u001b[1;33m,\u001b[0m \u001b[1;36m9\u001b[0m\u001b[1;33m]\u001b[0m\u001b[1;33m)\u001b[0m\u001b[1;33m\u001b[0m\u001b[1;33m\u001b[0m\u001b[0m\n\u001b[0;32m    644\u001b[0m     \"\"\"\n\u001b[1;32m--> 645\u001b[1;33m     \u001b[0m_savez\u001b[0m\u001b[1;33m(\u001b[0m\u001b[0mfile\u001b[0m\u001b[1;33m,\u001b[0m \u001b[0margs\u001b[0m\u001b[1;33m,\u001b[0m \u001b[0mkwds\u001b[0m\u001b[1;33m,\u001b[0m \u001b[1;32mFalse\u001b[0m\u001b[1;33m)\u001b[0m\u001b[1;33m\u001b[0m\u001b[1;33m\u001b[0m\u001b[0m\n\u001b[0m\u001b[0;32m    646\u001b[0m \u001b[1;33m\u001b[0m\u001b[0m\n\u001b[0;32m    647\u001b[0m \u001b[1;33m\u001b[0m\u001b[0m\n",
      "\u001b[1;32m~\\Anaconda3\\envs\\tensorflow-2.1\\lib\\site-packages\\numpy\\lib\\npyio.py\u001b[0m in \u001b[0;36m_savez\u001b[1;34m(file, args, kwds, compress, allow_pickle, pickle_kwargs)\u001b[0m\n\u001b[0;32m    741\u001b[0m         \u001b[0mcompression\u001b[0m \u001b[1;33m=\u001b[0m \u001b[0mzipfile\u001b[0m\u001b[1;33m.\u001b[0m\u001b[0mZIP_STORED\u001b[0m\u001b[1;33m\u001b[0m\u001b[1;33m\u001b[0m\u001b[0m\n\u001b[0;32m    742\u001b[0m \u001b[1;33m\u001b[0m\u001b[0m\n\u001b[1;32m--> 743\u001b[1;33m     \u001b[0mzipf\u001b[0m \u001b[1;33m=\u001b[0m \u001b[0mzipfile_factory\u001b[0m\u001b[1;33m(\u001b[0m\u001b[0mfile\u001b[0m\u001b[1;33m,\u001b[0m \u001b[0mmode\u001b[0m\u001b[1;33m=\u001b[0m\u001b[1;34m\"w\"\u001b[0m\u001b[1;33m,\u001b[0m \u001b[0mcompression\u001b[0m\u001b[1;33m=\u001b[0m\u001b[0mcompression\u001b[0m\u001b[1;33m)\u001b[0m\u001b[1;33m\u001b[0m\u001b[1;33m\u001b[0m\u001b[0m\n\u001b[0m\u001b[0;32m    744\u001b[0m \u001b[1;33m\u001b[0m\u001b[0m\n\u001b[0;32m    745\u001b[0m     \u001b[1;32mif\u001b[0m \u001b[0msys\u001b[0m\u001b[1;33m.\u001b[0m\u001b[0mversion_info\u001b[0m \u001b[1;33m>=\u001b[0m \u001b[1;33m(\u001b[0m\u001b[1;36m3\u001b[0m\u001b[1;33m,\u001b[0m \u001b[1;36m6\u001b[0m\u001b[1;33m)\u001b[0m\u001b[1;33m:\u001b[0m\u001b[1;33m\u001b[0m\u001b[1;33m\u001b[0m\u001b[0m\n",
      "\u001b[1;32m~\\Anaconda3\\envs\\tensorflow-2.1\\lib\\site-packages\\numpy\\lib\\npyio.py\u001b[0m in \u001b[0;36mzipfile_factory\u001b[1;34m(file, *args, **kwargs)\u001b[0m\n\u001b[0;32m    117\u001b[0m     \u001b[1;32mimport\u001b[0m \u001b[0mzipfile\u001b[0m\u001b[1;33m\u001b[0m\u001b[1;33m\u001b[0m\u001b[0m\n\u001b[0;32m    118\u001b[0m     \u001b[0mkwargs\u001b[0m\u001b[1;33m[\u001b[0m\u001b[1;34m'allowZip64'\u001b[0m\u001b[1;33m]\u001b[0m \u001b[1;33m=\u001b[0m \u001b[1;32mTrue\u001b[0m\u001b[1;33m\u001b[0m\u001b[1;33m\u001b[0m\u001b[0m\n\u001b[1;32m--> 119\u001b[1;33m     \u001b[1;32mreturn\u001b[0m \u001b[0mzipfile\u001b[0m\u001b[1;33m.\u001b[0m\u001b[0mZipFile\u001b[0m\u001b[1;33m(\u001b[0m\u001b[0mfile\u001b[0m\u001b[1;33m,\u001b[0m \u001b[1;33m*\u001b[0m\u001b[0margs\u001b[0m\u001b[1;33m,\u001b[0m \u001b[1;33m**\u001b[0m\u001b[0mkwargs\u001b[0m\u001b[1;33m)\u001b[0m\u001b[1;33m\u001b[0m\u001b[1;33m\u001b[0m\u001b[0m\n\u001b[0m\u001b[0;32m    120\u001b[0m \u001b[1;33m\u001b[0m\u001b[0m\n\u001b[0;32m    121\u001b[0m \u001b[1;33m\u001b[0m\u001b[0m\n",
      "\u001b[1;32m~\\Anaconda3\\envs\\tensorflow-2.1\\lib\\zipfile.py\u001b[0m in \u001b[0;36m__init__\u001b[1;34m(self, file, mode, compression, allowZip64, compresslevel)\u001b[0m\n\u001b[0;32m   1238\u001b[0m             \u001b[1;32mwhile\u001b[0m \u001b[1;32mTrue\u001b[0m\u001b[1;33m:\u001b[0m\u001b[1;33m\u001b[0m\u001b[1;33m\u001b[0m\u001b[0m\n\u001b[0;32m   1239\u001b[0m                 \u001b[1;32mtry\u001b[0m\u001b[1;33m:\u001b[0m\u001b[1;33m\u001b[0m\u001b[1;33m\u001b[0m\u001b[0m\n\u001b[1;32m-> 1240\u001b[1;33m                     \u001b[0mself\u001b[0m\u001b[1;33m.\u001b[0m\u001b[0mfp\u001b[0m \u001b[1;33m=\u001b[0m \u001b[0mio\u001b[0m\u001b[1;33m.\u001b[0m\u001b[0mopen\u001b[0m\u001b[1;33m(\u001b[0m\u001b[0mfile\u001b[0m\u001b[1;33m,\u001b[0m \u001b[0mfilemode\u001b[0m\u001b[1;33m)\u001b[0m\u001b[1;33m\u001b[0m\u001b[1;33m\u001b[0m\u001b[0m\n\u001b[0m\u001b[0;32m   1241\u001b[0m                 \u001b[1;32mexcept\u001b[0m \u001b[0mOSError\u001b[0m\u001b[1;33m:\u001b[0m\u001b[1;33m\u001b[0m\u001b[1;33m\u001b[0m\u001b[0m\n\u001b[0;32m   1242\u001b[0m                     \u001b[1;32mif\u001b[0m \u001b[0mfilemode\u001b[0m \u001b[1;32min\u001b[0m \u001b[0mmodeDict\u001b[0m\u001b[1;33m:\u001b[0m\u001b[1;33m\u001b[0m\u001b[1;33m\u001b[0m\u001b[0m\n",
      "\u001b[1;31mFileNotFoundError\u001b[0m: [Errno 2] No such file or directory: 'test-samples\\\\normal_anomaly_test_set.npz'"
     ]
    }
   ],
   "source": [
    "# Save the test dataset for use as a representative dataset\n",
    "np.savez(rep_dataset_name + '.npz', x_test=x_test)"
   ]
  },
  {
   "cell_type": "code",
   "execution_count": 49,
   "metadata": {},
   "outputs": [],
   "source": [
    "# Create a classifier (0 = normal, 1 = anomaly)\n",
    "def detect_anomaly(x, model, threshold=0):\n",
    "    input_tensor = x_test[0].reshape(1, -1)\n",
    "    pred = model.predict(input_tensor)\n",
    "    mse = np.mean(np.power(x - pred, 2), axis=1)\n",
    "    if mse > threshold:\n",
    "        return 1\n",
    "    else:\n",
    "        return 0"
   ]
  },
  {
   "cell_type": "code",
   "execution_count": 50,
   "metadata": {},
   "outputs": [],
   "source": [
    "# Choose a threshold\n",
    "anomaly_threshold = 3e-06"
   ]
  },
  {
   "cell_type": "code",
   "execution_count": 51,
   "metadata": {},
   "outputs": [
    {
     "name": "stdout",
     "output_type": "stream",
     "text": [
      "[0, 0, 0, 0, 0, 0, 0, 0, 0, 0, 0, 0, 0, 0, 0, 0, 0, 0, 0, 0, 0, 0, 0, 0, 0, 0, 0, 0, 0, 0, 0, 0, 0, 0, 0, 0, 0, 0, 0, 0, 0, 0, 0, 0, 0, 0, 0, 0, 0, 0, 0, 0, 0, 0, 0, 0, 0, 0, 0, 0, 0, 0, 0, 0, 0, 0, 0, 0, 0, 0, 0, 0, 0, 0, 0, 0, 0, 0, 0, 0, 0, 0, 0, 0, 0, 0, 0, 0, 0, 0, 0, 0, 0, 0, 0, 0, 0, 0, 0, 0, 0, 0, 0, 0, 0, 0, 0, 0, 0, 0, 0, 0, 0, 0, 0, 0, 0]\n"
     ]
    }
   ],
   "source": [
    "# Perform classification on test set\n",
    "pred_test = [detect_anomaly(x, model, anomaly_threshold) for x in x_test]\n",
    "print(pred_test)"
   ]
  },
  {
   "cell_type": "code",
   "execution_count": 52,
   "metadata": {},
   "outputs": [
    {
     "name": "stdout",
     "output_type": "stream",
     "text": [
      "[1, 1, 1, 1, 1, 1, 1, 1, 1, 1, 1, 1, 1, 1, 1, 1, 1, 1, 1, 1, 1, 1, 1, 1, 1, 1, 1, 1, 1, 1, 1, 1, 1, 1, 1, 1, 1, 1, 1, 1, 1, 1, 1, 1, 1, 1, 1, 1, 1, 1, 1, 1, 1, 1, 1, 1, 1, 1, 1, 1, 1, 1, 1, 1, 1, 1, 1, 1, 1, 1, 1, 1, 1, 1, 1, 1, 1, 1, 1, 1, 1, 1, 1, 1, 1, 1, 1, 1, 1, 1, 1, 1, 1, 1, 1, 1, 1, 1, 1, 1, 1, 1, 1, 1, 1, 1, 1, 1, 1, 1, 1, 1, 1, 1, 1, 1, 1]\n"
     ]
    }
   ],
   "source": [
    "# Perform classification on anomaly set\n",
    "pred_anomaly = [detect_anomaly(x, model, anomaly_threshold) for x in anomaly_features]\n",
    "print(pred_anomaly)"
   ]
  },
  {
   "cell_type": "code",
   "execution_count": 53,
   "metadata": {},
   "outputs": [],
   "source": [
    "# Combine predictions into one long list and create a label list\n",
    "pred = np.array(pred_test + pred_anomaly)\n",
    "labels = ([0] * len(pred_test)) + ([1] * len(pred_anomaly))"
   ]
  },
  {
   "cell_type": "code",
   "execution_count": 54,
   "metadata": {},
   "outputs": [
    {
     "name": "stdout",
     "output_type": "stream",
     "text": [
      "[[117   0]\n",
      " [  0 117]]\n"
     ]
    }
   ],
   "source": [
    "# Create confusion matrix\n",
    "cm = confusion_matrix(labels, pred)\n",
    "print(cm)"
   ]
  },
  {
   "cell_type": "code",
   "execution_count": 55,
   "metadata": {},
   "outputs": [
    {
     "data": {
      "text/plain": [
       "Text(33.0, 0.5, 'Actual')"
      ]
     },
     "execution_count": 55,
     "metadata": {},
     "output_type": "execute_result"
    },
    {
     "data": {
      "image/png": "[encoded data removed]",
      "text/plain": [
       "<Figure size 432x288 with 2 Axes>"
      ]
     },
     "metadata": {
      "needs_background": "light"
     },
     "output_type": "display_data"
    }
   ],
   "source": [
    "# Make confusion matrix pretty\n",
    "df_cm = pd.DataFrame(cm, index=['normal', 'anomaly'], columns=['normal', 'anomaly'])\n",
    "plt.figure()\n",
    "sn.heatmap(df_cm, annot=True)\n",
    "plt.title('Confusion Matrix')\n",
    "plt.xlabel('Prediction')\n",
    "plt.ylabel('Actual')"
   ]
  },
  {
   "cell_type": "code",
   "execution_count": null,
   "metadata": {},
   "outputs": [],
   "source": []
  }
 ],
 "metadata": {
  "kernelspec": {
   "display_name": "Python 3",
   "language": "python",
   "name": "python3"
  },
  "language_info": {
   "codemirror_mode": {
    "name": "ipython",
    "version": 3
   },
   "file_extension": ".py",
   "mimetype": "text/x-python",
   "name": "python",
   "nbconvert_exporter": "python",
   "pygments_lexer": "ipython3",
   "version": "3.7.6"
  }
 },
 "nbformat": 4,
 "nbformat_minor": 4
}
